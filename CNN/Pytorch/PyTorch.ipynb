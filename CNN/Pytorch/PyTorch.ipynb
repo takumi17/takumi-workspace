{
 "cells": [
  {
   "cell_type": "markdown",
   "metadata": {},
   "source": [
    "# pytorchの特徴\n",
    "- テンソル\n",
    "- 自動微分\n",
    "- DatasetとDataLoader\n",
    "- GPUの利用"
   ]
  },
  {
   "cell_type": "markdown",
   "metadata": {},
   "source": [
    "## テンソル"
   ]
  },
  {
   "cell_type": "markdown",
   "metadata": {},
   "source": [
    "### 1 ライブラリとデータ作成"
   ]
  },
  {
   "cell_type": "code",
   "execution_count": 1,
   "metadata": {},
   "outputs": [
    {
     "data": {
      "text/plain": [
       "<torch._C.Generator at 0x1152a04b0>"
      ]
     },
     "execution_count": 1,
     "metadata": {},
     "output_type": "execute_result"
    }
   ],
   "source": [
    "import numpy as np\n",
    "import torch\n",
    "torch.manual_seed(1)"
   ]
  },
  {
   "cell_type": "markdown",
   "metadata": {},
   "source": [
    "#### 1.1 次元"
   ]
  },
  {
   "cell_type": "code",
   "execution_count": 2,
   "metadata": {},
   "outputs": [
    {
     "name": "stdout",
     "output_type": "stream",
     "text": [
      "torch.Size([3]) tensor([1., 2., 3.])\n"
     ]
    }
   ],
   "source": [
    "x0 = torch.tensor([1.0, 2.0, 3.0])\n",
    "print(x0.shape, x0)"
   ]
  },
  {
   "cell_type": "code",
   "execution_count": 3,
   "metadata": {},
   "outputs": [
    {
     "name": "stdout",
     "output_type": "stream",
     "text": [
      "torch.Size([2, 3, 3])\n",
      "tensor([[[ 1,  2,  3],\n",
      "         [ 4,  5,  6],\n",
      "         [ 7,  8,  9]],\n",
      "\n",
      "        [[10, 11, 12],\n",
      "         [13, 14, 15],\n",
      "         [16, 17, 18]]])\n"
     ]
    }
   ],
   "source": [
    "x3 = torch.tensor([[[1, 2, 3], [4, 5, 6], [7, 8, 9]], [[10, 11, 12], [13, 14, 15], [16, 17, 18]]])\n",
    "print(x3.shape, x3, sep=\"\\n\")"
   ]
  },
  {
   "cell_type": "markdown",
   "metadata": {},
   "source": [
    "#### 1.2 連続データ"
   ]
  },
  {
   "cell_type": "code",
   "execution_count": 4,
   "metadata": {},
   "outputs": [
    {
     "data": {
      "text/plain": [
       "tensor([0, 1, 2, 3, 4, 5, 6, 7, 8, 9])"
      ]
     },
     "execution_count": 4,
     "metadata": {},
     "output_type": "execute_result"
    }
   ],
   "source": [
    "x = torch.arange(0, 10)\n",
    "x"
   ]
  },
  {
   "cell_type": "markdown",
   "metadata": {},
   "source": [
    "#### 1.3 ランダムデータ"
   ]
  },
  {
   "cell_type": "code",
   "execution_count": 5,
   "metadata": {},
   "outputs": [
    {
     "data": {
      "text/plain": [
       "tensor([[0.7576, 0.2793, 0.4031],\n",
       "        [0.7347, 0.0293, 0.7999],\n",
       "        [0.3971, 0.7544, 0.5695]])"
      ]
     },
     "execution_count": 5,
     "metadata": {},
     "output_type": "execute_result"
    }
   ],
   "source": [
    "x_3 = torch.rand(3, 3)\n",
    "x_3"
   ]
  },
  {
   "cell_type": "markdown",
   "metadata": {},
   "source": [
    "### 2 データの変形"
   ]
  },
  {
   "cell_type": "markdown",
   "metadata": {},
   "source": [
    "- `numpy`では`reshape`だが, `pytorch`では`view`を使う\n",
    "- `unsqueeze` 次元の追加"
   ]
  },
  {
   "cell_type": "code",
   "execution_count": 6,
   "metadata": {},
   "outputs": [
    {
     "name": "stdout",
     "output_type": "stream",
     "text": [
      "torch.Size([1, 9])\n",
      "tensor([[0.7576, 0.2793, 0.4031, 0.7347, 0.0293, 0.7999, 0.3971, 0.7544, 0.5695]])\n"
     ]
    }
   ],
   "source": [
    "y = x_3.view(1, 9)\n",
    "print(y.shape, y, sep=\"\\n\")"
   ]
  },
  {
   "cell_type": "code",
   "execution_count": 7,
   "metadata": {},
   "outputs": [
    {
     "name": "stdout",
     "output_type": "stream",
     "text": [
      "torch.Size([3, 1, 3])\n",
      "tensor([[[0.7576, 0.2793, 0.4031]],\n",
      "\n",
      "        [[0.7347, 0.0293, 0.7999]],\n",
      "\n",
      "        [[0.3971, 0.7544, 0.5695]]])\n"
     ]
    }
   ],
   "source": [
    "y = x_3.unsqueeze(1)\n",
    "print(y.shape, y, sep=\"\\n\")"
   ]
  },
  {
   "cell_type": "markdown",
   "metadata": {},
   "source": [
    "### 3　データの参照"
   ]
  },
  {
   "cell_type": "code",
   "execution_count": 8,
   "metadata": {},
   "outputs": [
    {
     "data": {
      "text/plain": [
       "tensor([[-0.6617, -0.0426, -1.3328,  0.5161],\n",
       "        [ 0.7455, -0.0751, -0.6919, -0.4043],\n",
       "        [ 0.2222,  0.5773, -1.7637,  0.2264]])"
      ]
     },
     "execution_count": 8,
     "metadata": {},
     "output_type": "execute_result"
    }
   ],
   "source": [
    "x = torch.randn(3,4)\n",
    "x"
   ]
  },
  {
   "cell_type": "code",
   "execution_count": 9,
   "metadata": {},
   "outputs": [
    {
     "data": {
      "text/plain": [
       "tensor([-0.6617, -0.0426, -1.3328,  0.5161])"
      ]
     },
     "execution_count": 9,
     "metadata": {},
     "output_type": "execute_result"
    }
   ],
   "source": [
    "x[0,]"
   ]
  },
  {
   "cell_type": "code",
   "execution_count": 10,
   "metadata": {},
   "outputs": [
    {
     "data": {
      "text/plain": [
       "tensor([-1.3328, -0.6919, -1.7637])"
      ]
     },
     "execution_count": 10,
     "metadata": {},
     "output_type": "execute_result"
    }
   ],
   "source": [
    "x[:,2]"
   ]
  },
  {
   "cell_type": "markdown",
   "metadata": {},
   "source": [
    "### numpyとtensor"
   ]
  },
  {
   "cell_type": "code",
   "execution_count": 11,
   "metadata": {},
   "outputs": [
    {
     "data": {
      "text/plain": [
       "array([0, 1, 2, 3, 4, 5, 6, 7, 8, 9])"
      ]
     },
     "execution_count": 11,
     "metadata": {},
     "output_type": "execute_result"
    }
   ],
   "source": [
    "x = np.arange(0, 10)\n",
    "x"
   ]
  },
  {
   "cell_type": "code",
   "execution_count": 12,
   "metadata": {},
   "outputs": [
    {
     "data": {
      "text/plain": [
       "tensor([0, 1, 2, 3, 4, 5, 6, 7, 8, 9])"
      ]
     },
     "execution_count": 12,
     "metadata": {},
     "output_type": "execute_result"
    }
   ],
   "source": [
    "y = torch.tensor(x)\n",
    "y"
   ]
  },
  {
   "cell_type": "code",
   "execution_count": 13,
   "metadata": {},
   "outputs": [
    {
     "data": {
      "text/plain": [
       "tensor([0, 1, 2, 3, 4, 5, 6, 7, 8, 9])"
      ]
     },
     "execution_count": 13,
     "metadata": {},
     "output_type": "execute_result"
    }
   ],
   "source": [
    "y = torch.from_numpy(x)\n",
    "y"
   ]
  },
  {
   "cell_type": "code",
   "execution_count": 14,
   "metadata": {},
   "outputs": [
    {
     "data": {
      "text/plain": [
       "array([0, 1, 2, 3, 4, 5, 6, 7, 8, 9])"
      ]
     },
     "execution_count": 14,
     "metadata": {},
     "output_type": "execute_result"
    }
   ],
   "source": [
    "y.numpy()"
   ]
  },
  {
   "cell_type": "markdown",
   "metadata": {},
   "source": [
    "## 自動微分"
   ]
  },
  {
   "cell_type": "markdown",
   "metadata": {},
   "source": [
    "### 1 ライブラリ"
   ]
  },
  {
   "cell_type": "code",
   "execution_count": 15,
   "metadata": {},
   "outputs": [
    {
     "data": {
      "text/plain": [
       "<torch._C.Generator at 0x1152a04b0>"
      ]
     },
     "execution_count": 15,
     "metadata": {},
     "output_type": "execute_result"
    }
   ],
   "source": [
    "import torch\n",
    "from torch import nn\n",
    "torch.manual_seed(1)"
   ]
  },
  {
   "cell_type": "markdown",
   "metadata": {},
   "source": [
    "### 2 線形変換と自動微分"
   ]
  },
  {
   "cell_type": "code",
   "execution_count": 17,
   "metadata": {},
   "outputs": [],
   "source": [
    "x = torch.tensor(10)\n",
    "w = torch.tensor(3, requires_grad=True, dtype=torch.float64)\n",
    "b = torch.tensor(5, requires_grad=True, dtype=torch.float64)"
   ]
  },
  {
   "cell_type": "code",
   "execution_count": 18,
   "metadata": {},
   "outputs": [],
   "source": [
    "def linear_model(x, w, b):\n",
    "    return w * x + b"
   ]
  },
  {
   "cell_type": "code",
   "execution_count": 19,
   "metadata": {},
   "outputs": [
    {
     "data": {
      "text/plain": [
       "tensor(35., dtype=torch.float64, grad_fn=<AddBackward0>)"
      ]
     },
     "execution_count": 19,
     "metadata": {},
     "output_type": "execute_result"
    }
   ],
   "source": [
    "y = linear_model(x, w, b)\n",
    "y"
   ]
  },
  {
   "cell_type": "code",
   "execution_count": 20,
   "metadata": {},
   "outputs": [],
   "source": [
    "y.backward()"
   ]
  },
  {
   "cell_type": "code",
   "execution_count": 21,
   "metadata": {},
   "outputs": [
    {
     "data": {
      "text/plain": [
       "(tensor(10., dtype=torch.float64), tensor(1., dtype=torch.float64))"
      ]
     },
     "execution_count": 21,
     "metadata": {},
     "output_type": "execute_result"
    }
   ],
   "source": [
    "w.grad, b.grad"
   ]
  },
  {
   "cell_type": "markdown",
   "metadata": {},
   "source": [
    "### 3 線形変換とMSE"
   ]
  },
  {
   "cell_type": "code",
   "execution_count": 22,
   "metadata": {},
   "outputs": [],
   "source": [
    "x = torch.tensor(10)\n",
    "w = torch.tensor(3, requires_grad=True, dtype=torch.float64)\n",
    "b = torch.tensor(5, requires_grad=True, dtype=torch.float64)\n",
    "t = torch.tensor(32)"
   ]
  },
  {
   "cell_type": "code",
   "execution_count": 23,
   "metadata": {},
   "outputs": [],
   "source": [
    "def MSE(y, t):\n",
    "    return (y-t)**2"
   ]
  },
  {
   "cell_type": "code",
   "execution_count": 24,
   "metadata": {},
   "outputs": [],
   "source": [
    "y = linear_model(x, w, b)\n",
    "L = MSE(y, t)"
   ]
  },
  {
   "cell_type": "code",
   "execution_count": 25,
   "metadata": {},
   "outputs": [
    {
     "data": {
      "text/plain": [
       "(tensor(35., dtype=torch.float64, grad_fn=<AddBackward0>),\n",
       " tensor(9., dtype=torch.float64, grad_fn=<PowBackward0>))"
      ]
     },
     "execution_count": 25,
     "metadata": {},
     "output_type": "execute_result"
    }
   ],
   "source": [
    "y, L"
   ]
  },
  {
   "cell_type": "code",
   "execution_count": 26,
   "metadata": {},
   "outputs": [],
   "source": [
    "L.backward()"
   ]
  },
  {
   "cell_type": "code",
   "execution_count": 27,
   "metadata": {},
   "outputs": [
    {
     "data": {
      "text/plain": [
       "(tensor(60., dtype=torch.float64), tensor(6., dtype=torch.float64))"
      ]
     },
     "execution_count": 27,
     "metadata": {},
     "output_type": "execute_result"
    }
   ],
   "source": [
    "w.grad, b.grad"
   ]
  },
  {
   "cell_type": "markdown",
   "metadata": {},
   "source": [
    "### 4 ライブラリの利用"
   ]
  },
  {
   "cell_type": "code",
   "execution_count": 28,
   "metadata": {},
   "outputs": [],
   "source": [
    "x = torch.tensor([1, 2, 3, 4, 5]).unsqueeze(1).float()\n",
    "t = torch.tensor([5, 8, 11, 14, 17]).unsqueeze(1).float()"
   ]
  },
  {
   "cell_type": "code",
   "execution_count": 30,
   "metadata": {},
   "outputs": [],
   "source": [
    "linear = nn.Linear(1, 1)\n",
    "MSE = nn.MSELoss()"
   ]
  },
  {
   "cell_type": "code",
   "execution_count": 31,
   "metadata": {},
   "outputs": [],
   "source": [
    "y = linear(x)\n",
    "L = MSE(y, t)"
   ]
  },
  {
   "cell_type": "code",
   "execution_count": 32,
   "metadata": {},
   "outputs": [],
   "source": [
    "L.backward()"
   ]
  },
  {
   "cell_type": "code",
   "execution_count": 33,
   "metadata": {},
   "outputs": [
    {
     "data": {
      "text/plain": [
       "(Parameter containing:\n",
       " tensor([[0.5153]], requires_grad=True),\n",
       " Parameter containing:\n",
       " tensor([-0.4414], requires_grad=True))"
      ]
     },
     "execution_count": 33,
     "metadata": {},
     "output_type": "execute_result"
    }
   ],
   "source": [
    "linear.weight, linear.bias"
   ]
  },
  {
   "cell_type": "code",
   "execution_count": 34,
   "metadata": {},
   "outputs": [
    {
     "data": {
      "text/plain": [
       "(tensor([[-69.3125]]), tensor([-19.7912]))"
      ]
     },
     "execution_count": 34,
     "metadata": {},
     "output_type": "execute_result"
    }
   ],
   "source": [
    "linear.weight.grad, linear.bias.grad"
   ]
  },
  {
   "cell_type": "markdown",
   "metadata": {},
   "source": [
    "## パラメータ更新"
   ]
  },
  {
   "cell_type": "markdown",
   "metadata": {},
   "source": [
    "### 1 ライブラリ"
   ]
  },
  {
   "cell_type": "code",
   "execution_count": 35,
   "metadata": {},
   "outputs": [
    {
     "data": {
      "text/plain": [
       "<torch._C.Generator at 0x1152a04b0>"
      ]
     },
     "execution_count": 35,
     "metadata": {},
     "output_type": "execute_result"
    }
   ],
   "source": [
    "import torch\n",
    "from torch import nn\n",
    "import torch.optim as optim\n",
    "torch.manual_seed(1)"
   ]
  },
  {
   "cell_type": "markdown",
   "metadata": {},
   "source": [
    "### 2 自動微分"
   ]
  },
  {
   "cell_type": "code",
   "execution_count": 36,
   "metadata": {},
   "outputs": [],
   "source": [
    "x = torch.tensor([1, 2, 3, 4, 5]).unsqueeze(1).float()\n",
    "t = torch.tensor([5, 8, 11, 14, 17]).unsqueeze(1).float()"
   ]
  },
  {
   "cell_type": "code",
   "execution_count": 37,
   "metadata": {},
   "outputs": [],
   "source": [
    "linear = nn.Linear(1, 1)\n",
    "MES = nn.MSELoss()"
   ]
  },
  {
   "cell_type": "code",
   "execution_count": 38,
   "metadata": {},
   "outputs": [],
   "source": [
    "y = linear(x)\n",
    "L = MSE(y, t)\n",
    "L.backward()"
   ]
  },
  {
   "cell_type": "code",
   "execution_count": 39,
   "metadata": {},
   "outputs": [
    {
     "data": {
      "text/plain": [
       "(Parameter containing:\n",
       " tensor([[0.5153]], requires_grad=True),\n",
       " Parameter containing:\n",
       " tensor([-0.4414], requires_grad=True))"
      ]
     },
     "execution_count": 39,
     "metadata": {},
     "output_type": "execute_result"
    }
   ],
   "source": [
    "linear.weight, linear.bias"
   ]
  },
  {
   "cell_type": "code",
   "execution_count": 40,
   "metadata": {},
   "outputs": [
    {
     "data": {
      "text/plain": [
       "(tensor([[-69.3125]]), tensor([-19.7912]))"
      ]
     },
     "execution_count": 40,
     "metadata": {},
     "output_type": "execute_result"
    }
   ],
   "source": [
    "linear.weight.grad, linear.bias.grad"
   ]
  },
  {
   "cell_type": "markdown",
   "metadata": {},
   "source": [
    "### 3 パラメータの更新"
   ]
  },
  {
   "cell_type": "code",
   "execution_count": 41,
   "metadata": {},
   "outputs": [],
   "source": [
    "linear = nn.Linear(1, 1)\n",
    "MSE = nn.MSELoss()\n",
    "optimizer = optim.SGD(linear.parameters(), lr=1e-3)"
   ]
  },
  {
   "cell_type": "code",
   "execution_count": 42,
   "metadata": {},
   "outputs": [
    {
     "data": {
      "text/plain": [
       "(Parameter containing:\n",
       " tensor([[-0.1939]], requires_grad=True),\n",
       " Parameter containing:\n",
       " tensor([0.4694], requires_grad=True))"
      ]
     },
     "execution_count": 42,
     "metadata": {},
     "output_type": "execute_result"
    }
   ],
   "source": [
    "linear.weight, linear.bias"
   ]
  },
  {
   "cell_type": "code",
   "execution_count": 43,
   "metadata": {},
   "outputs": [],
   "source": [
    "y = linear(x)\n",
    "L = MSE(y, t)\n",
    "L.backward()\n",
    "optimizer.step()"
   ]
  },
  {
   "cell_type": "code",
   "execution_count": 44,
   "metadata": {},
   "outputs": [
    {
     "data": {
      "text/plain": [
       "(Parameter containing:\n",
       " tensor([[-0.1144]], requires_grad=True),\n",
       " Parameter containing:\n",
       " tensor([0.4916], requires_grad=True))"
      ]
     },
     "execution_count": 44,
     "metadata": {},
     "output_type": "execute_result"
    }
   ],
   "source": [
    "linear.weight, linear.bias"
   ]
  },
  {
   "cell_type": "markdown",
   "metadata": {},
   "source": [
    "### 4 パラメータの推定"
   ]
  },
  {
   "cell_type": "code",
   "execution_count": 45,
   "metadata": {},
   "outputs": [],
   "source": [
    "x = torch.tensor([1, 2, 3, 4, 5]).unsqueeze(1).float()\n",
    "t = torch.tensor([5, 8, 11, 14, 17]).unsqueeze(1).float()"
   ]
  },
  {
   "cell_type": "code",
   "execution_count": 46,
   "metadata": {},
   "outputs": [],
   "source": [
    "linear = nn.Linear(1, 1)\n",
    "MSE = nn.MSELoss()\n",
    "optimizer = optim.SGD(linear.parameters(), lr=1e-2)"
   ]
  },
  {
   "cell_type": "code",
   "execution_count": 48,
   "metadata": {},
   "outputs": [],
   "source": [
    "for epoch in range(1000):\n",
    "    y = linear(x)\n",
    "    L = MSE(y, t)\n",
    "    L.backward()\n",
    "    optimizer.step()\n",
    "    optimizer.zero_grad()"
   ]
  },
  {
   "cell_type": "code",
   "execution_count": 49,
   "metadata": {},
   "outputs": [
    {
     "data": {
      "text/plain": [
       "(Parameter containing:\n",
       " tensor([[3.0027]], requires_grad=True),\n",
       " Parameter containing:\n",
       " tensor([1.9903], requires_grad=True))"
      ]
     },
     "execution_count": 49,
     "metadata": {},
     "output_type": "execute_result"
    }
   ],
   "source": [
    "linear.weight, linear.bias"
   ]
  },
  {
   "cell_type": "markdown",
   "metadata": {},
   "source": [
    "## DatasetとDataLoaderの扱い"
   ]
  },
  {
   "cell_type": "markdown",
   "metadata": {},
   "source": [
    "### 1 ライブラリとデータのダウンロード"
   ]
  },
  {
   "cell_type": "code",
   "execution_count": 50,
   "metadata": {},
   "outputs": [
    {
     "data": {
      "text/plain": [
       "<torch._C.Generator at 0x1152a04b0>"
      ]
     },
     "execution_count": 50,
     "metadata": {},
     "output_type": "execute_result"
    }
   ],
   "source": [
    "import torch\n",
    "from torchvision import datasets\n",
    "import torchvision.transforms as transforms\n",
    "from torch.utils.data import DataLoader\n",
    "torch.manual_seed(1)"
   ]
  },
  {
   "cell_type": "code",
   "execution_count": 52,
   "metadata": {},
   "outputs": [
    {
     "name": "stdout",
     "output_type": "stream",
     "text": [
      "Downloading http://yann.lecun.com/exdb/mnist/train-images-idx3-ubyte.gz\n",
      "Failed to download (trying next):\n",
      "HTTP Error 403: Forbidden\n",
      "\n",
      "Downloading https://ossci-datasets.s3.amazonaws.com/mnist/train-images-idx3-ubyte.gz\n",
      "Downloading https://ossci-datasets.s3.amazonaws.com/mnist/train-images-idx3-ubyte.gz to ./data/MNIST/raw/train-images-idx3-ubyte.gz\n"
     ]
    },
    {
     "name": "stderr",
     "output_type": "stream",
     "text": [
      "100.0%\n"
     ]
    },
    {
     "name": "stdout",
     "output_type": "stream",
     "text": [
      "Extracting ./data/MNIST/raw/train-images-idx3-ubyte.gz to ./data/MNIST/raw\n",
      "\n",
      "Downloading http://yann.lecun.com/exdb/mnist/train-labels-idx1-ubyte.gz\n",
      "Failed to download (trying next):\n",
      "HTTP Error 403: Forbidden\n",
      "\n",
      "Downloading https://ossci-datasets.s3.amazonaws.com/mnist/train-labels-idx1-ubyte.gz\n",
      "Downloading https://ossci-datasets.s3.amazonaws.com/mnist/train-labels-idx1-ubyte.gz to ./data/MNIST/raw/train-labels-idx1-ubyte.gz\n"
     ]
    },
    {
     "name": "stderr",
     "output_type": "stream",
     "text": [
      "100.0%\n"
     ]
    },
    {
     "name": "stdout",
     "output_type": "stream",
     "text": [
      "Extracting ./data/MNIST/raw/train-labels-idx1-ubyte.gz to ./data/MNIST/raw\n",
      "\n",
      "Downloading http://yann.lecun.com/exdb/mnist/t10k-images-idx3-ubyte.gz\n",
      "Failed to download (trying next):\n",
      "HTTP Error 403: Forbidden\n",
      "\n",
      "Downloading https://ossci-datasets.s3.amazonaws.com/mnist/t10k-images-idx3-ubyte.gz\n",
      "Downloading https://ossci-datasets.s3.amazonaws.com/mnist/t10k-images-idx3-ubyte.gz to ./data/MNIST/raw/t10k-images-idx3-ubyte.gz\n"
     ]
    },
    {
     "name": "stderr",
     "output_type": "stream",
     "text": [
      "100.0%\n"
     ]
    },
    {
     "name": "stdout",
     "output_type": "stream",
     "text": [
      "Extracting ./data/MNIST/raw/t10k-images-idx3-ubyte.gz to ./data/MNIST/raw\n",
      "\n",
      "Downloading http://yann.lecun.com/exdb/mnist/t10k-labels-idx1-ubyte.gz\n",
      "Failed to download (trying next):\n",
      "HTTP Error 403: Forbidden\n",
      "\n",
      "Downloading https://ossci-datasets.s3.amazonaws.com/mnist/t10k-labels-idx1-ubyte.gz\n",
      "Downloading https://ossci-datasets.s3.amazonaws.com/mnist/t10k-labels-idx1-ubyte.gz to ./data/MNIST/raw/t10k-labels-idx1-ubyte.gz\n"
     ]
    },
    {
     "name": "stderr",
     "output_type": "stream",
     "text": [
      "100.0%"
     ]
    },
    {
     "name": "stdout",
     "output_type": "stream",
     "text": [
      "Extracting ./data/MNIST/raw/t10k-labels-idx1-ubyte.gz to ./data/MNIST/raw\n",
      "\n"
     ]
    },
    {
     "name": "stderr",
     "output_type": "stream",
     "text": [
      "\n"
     ]
    }
   ],
   "source": [
    "transform = transforms.Compose([transforms.ToTensor(), transforms.Normalize((0),(1)), lambda x: x.view(-1)])\n",
    "\n",
    "root = './data'\n",
    "mnist_train = datasets.MNIST(root=root, train=True, download=True, transform=transform)\n",
    "mnist_test = datasets.MNIST(root=root, train=False, download=True, transform=transform)\n",
    "\n",
    "train_dataloder = DataLoader(mnist_train, batch_size=100, shuffle=True)\n",
    "test_dataloder = DataLoader(mnist_test, batch_size=100, shuffle=False)"
   ]
  },
  {
   "cell_type": "code",
   "execution_count": 53,
   "metadata": {},
   "outputs": [
    {
     "data": {
      "text/plain": [
       "Dataset MNIST\n",
       "    Number of datapoints: 60000\n",
       "    Root location: ./data\n",
       "    Split: Train\n",
       "    StandardTransform\n",
       "Transform: Compose(\n",
       "               ToTensor()\n",
       "               Normalize(mean=0, std=1)\n",
       "               <function <lambda> at 0x12b9e98a0>\n",
       "           )"
      ]
     },
     "execution_count": 53,
     "metadata": {},
     "output_type": "execute_result"
    }
   ],
   "source": [
    "mnist_train"
   ]
  },
  {
   "cell_type": "code",
   "execution_count": 55,
   "metadata": {},
   "outputs": [
    {
     "data": {
      "text/plain": [
       "<torch.utils.data.dataloader.DataLoader at 0x12a0329f0>"
      ]
     },
     "execution_count": 55,
     "metadata": {},
     "output_type": "execute_result"
    }
   ],
   "source": [
    "train_dataloder"
   ]
  },
  {
   "cell_type": "markdown",
   "metadata": {},
   "source": [
    "### 2 データの参照"
   ]
  },
  {
   "cell_type": "code",
   "execution_count": 56,
   "metadata": {},
   "outputs": [
    {
     "data": {
      "text/plain": [
       "(torch.Size([100, 784]), torch.Size([100]))"
      ]
     },
     "execution_count": 56,
     "metadata": {},
     "output_type": "execute_result"
    }
   ],
   "source": [
    "x, t = next(iter(train_dataloder))\n",
    "x.shape, t.shape"
   ]
  },
  {
   "cell_type": "code",
   "execution_count": 57,
   "metadata": {},
   "outputs": [
    {
     "name": "stdout",
     "output_type": "stream",
     "text": [
      "torch.Size([100, 784]) torch.Size([100])\n",
      "torch.Size([100, 784]) torch.Size([100])\n",
      "torch.Size([100, 784]) torch.Size([100])\n",
      "torch.Size([100, 784]) torch.Size([100])\n",
      "torch.Size([100, 784]) torch.Size([100])\n",
      "torch.Size([100, 784]) torch.Size([100])\n",
      "torch.Size([100, 784]) torch.Size([100])\n",
      "torch.Size([100, 784]) torch.Size([100])\n",
      "torch.Size([100, 784]) torch.Size([100])\n",
      "torch.Size([100, 784]) torch.Size([100])\n",
      "torch.Size([100, 784]) torch.Size([100])\n",
      "torch.Size([100, 784]) torch.Size([100])\n",
      "torch.Size([100, 784]) torch.Size([100])\n",
      "torch.Size([100, 784]) torch.Size([100])\n",
      "torch.Size([100, 784]) torch.Size([100])\n",
      "torch.Size([100, 784]) torch.Size([100])\n",
      "torch.Size([100, 784]) torch.Size([100])\n",
      "torch.Size([100, 784]) torch.Size([100])\n",
      "torch.Size([100, 784]) torch.Size([100])\n",
      "torch.Size([100, 784]) torch.Size([100])\n",
      "torch.Size([100, 784]) torch.Size([100])\n",
      "torch.Size([100, 784]) torch.Size([100])\n",
      "torch.Size([100, 784]) torch.Size([100])\n",
      "torch.Size([100, 784]) torch.Size([100])\n",
      "torch.Size([100, 784]) torch.Size([100])\n",
      "torch.Size([100, 784]) torch.Size([100])\n",
      "torch.Size([100, 784]) torch.Size([100])\n",
      "torch.Size([100, 784]) torch.Size([100])\n",
      "torch.Size([100, 784]) torch.Size([100])\n",
      "torch.Size([100, 784]) torch.Size([100])\n",
      "torch.Size([100, 784]) torch.Size([100])\n",
      "torch.Size([100, 784]) torch.Size([100])\n",
      "torch.Size([100, 784]) torch.Size([100])\n",
      "torch.Size([100, 784]) torch.Size([100])\n",
      "torch.Size([100, 784]) torch.Size([100])\n",
      "torch.Size([100, 784]) torch.Size([100])\n",
      "torch.Size([100, 784]) torch.Size([100])\n",
      "torch.Size([100, 784]) torch.Size([100])\n",
      "torch.Size([100, 784]) torch.Size([100])\n",
      "torch.Size([100, 784]) torch.Size([100])\n",
      "torch.Size([100, 784]) torch.Size([100])\n",
      "torch.Size([100, 784]) torch.Size([100])\n",
      "torch.Size([100, 784]) torch.Size([100])\n",
      "torch.Size([100, 784]) torch.Size([100])\n",
      "torch.Size([100, 784]) torch.Size([100])\n",
      "torch.Size([100, 784]) torch.Size([100])\n",
      "torch.Size([100, 784]) torch.Size([100])\n",
      "torch.Size([100, 784]) torch.Size([100])\n",
      "torch.Size([100, 784]) torch.Size([100])\n",
      "torch.Size([100, 784]) torch.Size([100])\n",
      "torch.Size([100, 784]) torch.Size([100])\n",
      "torch.Size([100, 784]) torch.Size([100])\n",
      "torch.Size([100, 784]) torch.Size([100])\n",
      "torch.Size([100, 784]) torch.Size([100])\n",
      "torch.Size([100, 784]) torch.Size([100])\n",
      "torch.Size([100, 784]) torch.Size([100])\n",
      "torch.Size([100, 784]) torch.Size([100])\n",
      "torch.Size([100, 784]) torch.Size([100])\n",
      "torch.Size([100, 784]) torch.Size([100])\n",
      "torch.Size([100, 784]) torch.Size([100])\n",
      "torch.Size([100, 784]) torch.Size([100])\n",
      "torch.Size([100, 784]) torch.Size([100])\n",
      "torch.Size([100, 784]) torch.Size([100])\n",
      "torch.Size([100, 784]) torch.Size([100])\n",
      "torch.Size([100, 784]) torch.Size([100])\n",
      "torch.Size([100, 784]) torch.Size([100])\n",
      "torch.Size([100, 784]) torch.Size([100])\n",
      "torch.Size([100, 784]) torch.Size([100])\n",
      "torch.Size([100, 784]) torch.Size([100])\n",
      "torch.Size([100, 784]) torch.Size([100])\n",
      "torch.Size([100, 784]) torch.Size([100])\n",
      "torch.Size([100, 784]) torch.Size([100])\n",
      "torch.Size([100, 784]) torch.Size([100])\n",
      "torch.Size([100, 784]) torch.Size([100])\n",
      "torch.Size([100, 784]) torch.Size([100])\n",
      "torch.Size([100, 784]) torch.Size([100])\n",
      "torch.Size([100, 784]) torch.Size([100])\n",
      "torch.Size([100, 784]) torch.Size([100])\n",
      "torch.Size([100, 784]) torch.Size([100])\n",
      "torch.Size([100, 784]) torch.Size([100])\n",
      "torch.Size([100, 784]) torch.Size([100])\n",
      "torch.Size([100, 784]) torch.Size([100])\n",
      "torch.Size([100, 784]) torch.Size([100])\n",
      "torch.Size([100, 784]) torch.Size([100])\n",
      "torch.Size([100, 784]) torch.Size([100])\n",
      "torch.Size([100, 784]) torch.Size([100])\n",
      "torch.Size([100, 784]) torch.Size([100])\n",
      "torch.Size([100, 784]) torch.Size([100])\n",
      "torch.Size([100, 784]) torch.Size([100])\n",
      "torch.Size([100, 784]) torch.Size([100])\n",
      "torch.Size([100, 784]) torch.Size([100])\n",
      "torch.Size([100, 784]) torch.Size([100])\n",
      "torch.Size([100, 784]) torch.Size([100])\n",
      "torch.Size([100, 784]) torch.Size([100])\n",
      "torch.Size([100, 784]) torch.Size([100])\n",
      "torch.Size([100, 784]) torch.Size([100])\n",
      "torch.Size([100, 784]) torch.Size([100])\n",
      "torch.Size([100, 784]) torch.Size([100])\n",
      "torch.Size([100, 784]) torch.Size([100])\n",
      "torch.Size([100, 784]) torch.Size([100])\n",
      "torch.Size([100, 784]) torch.Size([100])\n",
      "torch.Size([100, 784]) torch.Size([100])\n",
      "torch.Size([100, 784]) torch.Size([100])\n",
      "torch.Size([100, 784]) torch.Size([100])\n",
      "torch.Size([100, 784]) torch.Size([100])\n",
      "torch.Size([100, 784]) torch.Size([100])\n",
      "torch.Size([100, 784]) torch.Size([100])\n",
      "torch.Size([100, 784]) torch.Size([100])\n",
      "torch.Size([100, 784]) torch.Size([100])\n",
      "torch.Size([100, 784]) torch.Size([100])\n",
      "torch.Size([100, 784]) torch.Size([100])\n",
      "torch.Size([100, 784]) torch.Size([100])\n",
      "torch.Size([100, 784]) torch.Size([100])\n",
      "torch.Size([100, 784]) torch.Size([100])\n",
      "torch.Size([100, 784]) torch.Size([100])\n",
      "torch.Size([100, 784]) torch.Size([100])\n",
      "torch.Size([100, 784]) torch.Size([100])\n",
      "torch.Size([100, 784]) torch.Size([100])\n",
      "torch.Size([100, 784]) torch.Size([100])\n",
      "torch.Size([100, 784]) torch.Size([100])\n",
      "torch.Size([100, 784]) torch.Size([100])\n",
      "torch.Size([100, 784]) torch.Size([100])\n",
      "torch.Size([100, 784]) torch.Size([100])\n",
      "torch.Size([100, 784]) torch.Size([100])\n",
      "torch.Size([100, 784]) torch.Size([100])\n",
      "torch.Size([100, 784]) torch.Size([100])\n",
      "torch.Size([100, 784]) torch.Size([100])\n",
      "torch.Size([100, 784]) torch.Size([100])\n",
      "torch.Size([100, 784]) torch.Size([100])\n",
      "torch.Size([100, 784]) torch.Size([100])\n",
      "torch.Size([100, 784]) torch.Size([100])\n",
      "torch.Size([100, 784]) torch.Size([100])\n",
      "torch.Size([100, 784]) torch.Size([100])\n",
      "torch.Size([100, 784]) torch.Size([100])\n",
      "torch.Size([100, 784]) torch.Size([100])\n",
      "torch.Size([100, 784]) torch.Size([100])\n",
      "torch.Size([100, 784]) torch.Size([100])\n",
      "torch.Size([100, 784]) torch.Size([100])\n",
      "torch.Size([100, 784]) torch.Size([100])\n",
      "torch.Size([100, 784]) torch.Size([100])\n",
      "torch.Size([100, 784]) torch.Size([100])\n",
      "torch.Size([100, 784]) torch.Size([100])\n",
      "torch.Size([100, 784]) torch.Size([100])\n",
      "torch.Size([100, 784]) torch.Size([100])\n",
      "torch.Size([100, 784]) torch.Size([100])\n",
      "torch.Size([100, 784]) torch.Size([100])\n",
      "torch.Size([100, 784]) torch.Size([100])\n",
      "torch.Size([100, 784]) torch.Size([100])\n",
      "torch.Size([100, 784]) torch.Size([100])\n",
      "torch.Size([100, 784]) torch.Size([100])\n",
      "torch.Size([100, 784]) torch.Size([100])\n",
      "torch.Size([100, 784]) torch.Size([100])\n",
      "torch.Size([100, 784]) torch.Size([100])\n",
      "torch.Size([100, 784]) torch.Size([100])\n",
      "torch.Size([100, 784]) torch.Size([100])\n",
      "torch.Size([100, 784]) torch.Size([100])\n",
      "torch.Size([100, 784]) torch.Size([100])\n",
      "torch.Size([100, 784]) torch.Size([100])\n",
      "torch.Size([100, 784]) torch.Size([100])\n",
      "torch.Size([100, 784]) torch.Size([100])\n",
      "torch.Size([100, 784]) torch.Size([100])\n",
      "torch.Size([100, 784]) torch.Size([100])\n",
      "torch.Size([100, 784]) torch.Size([100])\n",
      "torch.Size([100, 784]) torch.Size([100])\n",
      "torch.Size([100, 784]) torch.Size([100])\n",
      "torch.Size([100, 784]) torch.Size([100])\n",
      "torch.Size([100, 784]) torch.Size([100])\n",
      "torch.Size([100, 784]) torch.Size([100])\n",
      "torch.Size([100, 784]) torch.Size([100])\n",
      "torch.Size([100, 784]) torch.Size([100])\n",
      "torch.Size([100, 784]) torch.Size([100])\n",
      "torch.Size([100, 784]) torch.Size([100])\n",
      "torch.Size([100, 784]) torch.Size([100])\n",
      "torch.Size([100, 784]) torch.Size([100])\n",
      "torch.Size([100, 784]) torch.Size([100])\n",
      "torch.Size([100, 784]) torch.Size([100])\n",
      "torch.Size([100, 784]) torch.Size([100])\n",
      "torch.Size([100, 784]) torch.Size([100])\n",
      "torch.Size([100, 784]) torch.Size([100])\n",
      "torch.Size([100, 784]) torch.Size([100])\n",
      "torch.Size([100, 784]) torch.Size([100])\n",
      "torch.Size([100, 784]) torch.Size([100])\n",
      "torch.Size([100, 784]) torch.Size([100])\n",
      "torch.Size([100, 784]) torch.Size([100])\n",
      "torch.Size([100, 784]) torch.Size([100])\n",
      "torch.Size([100, 784]) torch.Size([100])\n",
      "torch.Size([100, 784]) torch.Size([100])\n",
      "torch.Size([100, 784]) torch.Size([100])\n",
      "torch.Size([100, 784]) torch.Size([100])\n",
      "torch.Size([100, 784]) torch.Size([100])\n",
      "torch.Size([100, 784]) torch.Size([100])\n",
      "torch.Size([100, 784]) torch.Size([100])\n",
      "torch.Size([100, 784]) torch.Size([100])\n",
      "torch.Size([100, 784]) torch.Size([100])\n",
      "torch.Size([100, 784]) torch.Size([100])\n",
      "torch.Size([100, 784]) torch.Size([100])\n",
      "torch.Size([100, 784]) torch.Size([100])\n",
      "torch.Size([100, 784]) torch.Size([100])\n",
      "torch.Size([100, 784]) torch.Size([100])\n",
      "torch.Size([100, 784]) torch.Size([100])\n",
      "torch.Size([100, 784]) torch.Size([100])\n",
      "torch.Size([100, 784]) torch.Size([100])\n",
      "torch.Size([100, 784]) torch.Size([100])\n",
      "torch.Size([100, 784]) torch.Size([100])\n",
      "torch.Size([100, 784]) torch.Size([100])\n",
      "torch.Size([100, 784]) torch.Size([100])\n",
      "torch.Size([100, 784]) torch.Size([100])\n",
      "torch.Size([100, 784]) torch.Size([100])\n",
      "torch.Size([100, 784]) torch.Size([100])\n",
      "torch.Size([100, 784]) torch.Size([100])\n",
      "torch.Size([100, 784]) torch.Size([100])\n",
      "torch.Size([100, 784]) torch.Size([100])\n",
      "torch.Size([100, 784]) torch.Size([100])\n",
      "torch.Size([100, 784]) torch.Size([100])\n",
      "torch.Size([100, 784]) torch.Size([100])\n",
      "torch.Size([100, 784]) torch.Size([100])\n",
      "torch.Size([100, 784]) torch.Size([100])\n",
      "torch.Size([100, 784]) torch.Size([100])\n",
      "torch.Size([100, 784]) torch.Size([100])\n",
      "torch.Size([100, 784]) torch.Size([100])\n",
      "torch.Size([100, 784]) torch.Size([100])\n",
      "torch.Size([100, 784]) torch.Size([100])\n",
      "torch.Size([100, 784]) torch.Size([100])\n",
      "torch.Size([100, 784]) torch.Size([100])\n",
      "torch.Size([100, 784]) torch.Size([100])\n",
      "torch.Size([100, 784]) torch.Size([100])\n",
      "torch.Size([100, 784]) torch.Size([100])\n",
      "torch.Size([100, 784]) torch.Size([100])\n",
      "torch.Size([100, 784]) torch.Size([100])\n",
      "torch.Size([100, 784]) torch.Size([100])\n",
      "torch.Size([100, 784]) torch.Size([100])\n",
      "torch.Size([100, 784]) torch.Size([100])\n",
      "torch.Size([100, 784]) torch.Size([100])\n",
      "torch.Size([100, 784]) torch.Size([100])\n",
      "torch.Size([100, 784]) torch.Size([100])\n",
      "torch.Size([100, 784]) torch.Size([100])\n",
      "torch.Size([100, 784]) torch.Size([100])\n",
      "torch.Size([100, 784]) torch.Size([100])\n",
      "torch.Size([100, 784]) torch.Size([100])\n",
      "torch.Size([100, 784]) torch.Size([100])\n",
      "torch.Size([100, 784]) torch.Size([100])\n",
      "torch.Size([100, 784]) torch.Size([100])\n",
      "torch.Size([100, 784]) torch.Size([100])\n",
      "torch.Size([100, 784]) torch.Size([100])\n",
      "torch.Size([100, 784]) torch.Size([100])\n",
      "torch.Size([100, 784]) torch.Size([100])\n",
      "torch.Size([100, 784]) torch.Size([100])\n",
      "torch.Size([100, 784]) torch.Size([100])\n",
      "torch.Size([100, 784]) torch.Size([100])\n",
      "torch.Size([100, 784]) torch.Size([100])\n",
      "torch.Size([100, 784]) torch.Size([100])\n",
      "torch.Size([100, 784]) torch.Size([100])\n",
      "torch.Size([100, 784]) torch.Size([100])\n",
      "torch.Size([100, 784]) torch.Size([100])\n",
      "torch.Size([100, 784]) torch.Size([100])\n",
      "torch.Size([100, 784]) torch.Size([100])\n",
      "torch.Size([100, 784]) torch.Size([100])\n",
      "torch.Size([100, 784]) torch.Size([100])\n",
      "torch.Size([100, 784]) torch.Size([100])\n",
      "torch.Size([100, 784]) torch.Size([100])\n",
      "torch.Size([100, 784]) torch.Size([100])\n",
      "torch.Size([100, 784]) torch.Size([100])\n",
      "torch.Size([100, 784]) torch.Size([100])\n",
      "torch.Size([100, 784]) torch.Size([100])\n",
      "torch.Size([100, 784]) torch.Size([100])\n",
      "torch.Size([100, 784]) torch.Size([100])\n",
      "torch.Size([100, 784]) torch.Size([100])\n",
      "torch.Size([100, 784]) torch.Size([100])\n",
      "torch.Size([100, 784]) torch.Size([100])\n",
      "torch.Size([100, 784]) torch.Size([100])\n",
      "torch.Size([100, 784]) torch.Size([100])\n",
      "torch.Size([100, 784]) torch.Size([100])\n",
      "torch.Size([100, 784]) torch.Size([100])\n",
      "torch.Size([100, 784]) torch.Size([100])\n",
      "torch.Size([100, 784]) torch.Size([100])\n",
      "torch.Size([100, 784]) torch.Size([100])\n",
      "torch.Size([100, 784]) torch.Size([100])\n",
      "torch.Size([100, 784]) torch.Size([100])\n",
      "torch.Size([100, 784]) torch.Size([100])\n",
      "torch.Size([100, 784]) torch.Size([100])\n",
      "torch.Size([100, 784]) torch.Size([100])\n",
      "torch.Size([100, 784]) torch.Size([100])\n",
      "torch.Size([100, 784]) torch.Size([100])\n",
      "torch.Size([100, 784]) torch.Size([100])\n",
      "torch.Size([100, 784]) torch.Size([100])\n",
      "torch.Size([100, 784]) torch.Size([100])\n",
      "torch.Size([100, 784]) torch.Size([100])\n",
      "torch.Size([100, 784]) torch.Size([100])\n",
      "torch.Size([100, 784]) torch.Size([100])\n",
      "torch.Size([100, 784]) torch.Size([100])\n",
      "torch.Size([100, 784]) torch.Size([100])\n",
      "torch.Size([100, 784]) torch.Size([100])\n",
      "torch.Size([100, 784]) torch.Size([100])\n",
      "torch.Size([100, 784]) torch.Size([100])\n",
      "torch.Size([100, 784]) torch.Size([100])\n",
      "torch.Size([100, 784]) torch.Size([100])\n",
      "torch.Size([100, 784]) torch.Size([100])\n",
      "torch.Size([100, 784]) torch.Size([100])\n",
      "torch.Size([100, 784]) torch.Size([100])\n",
      "torch.Size([100, 784]) torch.Size([100])\n",
      "torch.Size([100, 784]) torch.Size([100])\n",
      "torch.Size([100, 784]) torch.Size([100])\n",
      "torch.Size([100, 784]) torch.Size([100])\n",
      "torch.Size([100, 784]) torch.Size([100])\n",
      "torch.Size([100, 784]) torch.Size([100])\n",
      "torch.Size([100, 784]) torch.Size([100])\n",
      "torch.Size([100, 784]) torch.Size([100])\n",
      "torch.Size([100, 784]) torch.Size([100])\n",
      "torch.Size([100, 784]) torch.Size([100])\n",
      "torch.Size([100, 784]) torch.Size([100])\n",
      "torch.Size([100, 784]) torch.Size([100])\n",
      "torch.Size([100, 784]) torch.Size([100])\n",
      "torch.Size([100, 784]) torch.Size([100])\n",
      "torch.Size([100, 784]) torch.Size([100])\n",
      "torch.Size([100, 784]) torch.Size([100])\n",
      "torch.Size([100, 784]) torch.Size([100])\n",
      "torch.Size([100, 784]) torch.Size([100])\n",
      "torch.Size([100, 784]) torch.Size([100])\n",
      "torch.Size([100, 784]) torch.Size([100])\n",
      "torch.Size([100, 784]) torch.Size([100])\n",
      "torch.Size([100, 784]) torch.Size([100])\n",
      "torch.Size([100, 784]) torch.Size([100])\n",
      "torch.Size([100, 784]) torch.Size([100])\n",
      "torch.Size([100, 784]) torch.Size([100])\n",
      "torch.Size([100, 784]) torch.Size([100])\n",
      "torch.Size([100, 784]) torch.Size([100])\n",
      "torch.Size([100, 784]) torch.Size([100])\n",
      "torch.Size([100, 784]) torch.Size([100])\n",
      "torch.Size([100, 784]) torch.Size([100])\n",
      "torch.Size([100, 784]) torch.Size([100])\n",
      "torch.Size([100, 784]) torch.Size([100])\n",
      "torch.Size([100, 784]) torch.Size([100])\n",
      "torch.Size([100, 784]) torch.Size([100])\n",
      "torch.Size([100, 784]) torch.Size([100])\n",
      "torch.Size([100, 784]) torch.Size([100])\n",
      "torch.Size([100, 784]) torch.Size([100])\n",
      "torch.Size([100, 784]) torch.Size([100])\n",
      "torch.Size([100, 784]) torch.Size([100])\n",
      "torch.Size([100, 784]) torch.Size([100])\n",
      "torch.Size([100, 784]) torch.Size([100])\n",
      "torch.Size([100, 784]) torch.Size([100])\n",
      "torch.Size([100, 784]) torch.Size([100])\n",
      "torch.Size([100, 784]) torch.Size([100])\n",
      "torch.Size([100, 784]) torch.Size([100])\n",
      "torch.Size([100, 784]) torch.Size([100])\n",
      "torch.Size([100, 784]) torch.Size([100])\n",
      "torch.Size([100, 784]) torch.Size([100])\n",
      "torch.Size([100, 784]) torch.Size([100])\n",
      "torch.Size([100, 784]) torch.Size([100])\n",
      "torch.Size([100, 784]) torch.Size([100])\n",
      "torch.Size([100, 784]) torch.Size([100])\n",
      "torch.Size([100, 784]) torch.Size([100])\n",
      "torch.Size([100, 784]) torch.Size([100])\n",
      "torch.Size([100, 784]) torch.Size([100])\n",
      "torch.Size([100, 784]) torch.Size([100])\n",
      "torch.Size([100, 784]) torch.Size([100])\n",
      "torch.Size([100, 784]) torch.Size([100])\n",
      "torch.Size([100, 784]) torch.Size([100])\n",
      "torch.Size([100, 784]) torch.Size([100])\n",
      "torch.Size([100, 784]) torch.Size([100])\n",
      "torch.Size([100, 784]) torch.Size([100])\n",
      "torch.Size([100, 784]) torch.Size([100])\n",
      "torch.Size([100, 784]) torch.Size([100])\n",
      "torch.Size([100, 784]) torch.Size([100])\n",
      "torch.Size([100, 784]) torch.Size([100])\n",
      "torch.Size([100, 784]) torch.Size([100])\n",
      "torch.Size([100, 784]) torch.Size([100])\n",
      "torch.Size([100, 784]) torch.Size([100])\n",
      "torch.Size([100, 784]) torch.Size([100])\n",
      "torch.Size([100, 784]) torch.Size([100])\n",
      "torch.Size([100, 784]) torch.Size([100])\n",
      "torch.Size([100, 784]) torch.Size([100])\n",
      "torch.Size([100, 784]) torch.Size([100])\n",
      "torch.Size([100, 784]) torch.Size([100])\n",
      "torch.Size([100, 784]) torch.Size([100])\n",
      "torch.Size([100, 784]) torch.Size([100])\n",
      "torch.Size([100, 784]) torch.Size([100])\n",
      "torch.Size([100, 784]) torch.Size([100])\n",
      "torch.Size([100, 784]) torch.Size([100])\n",
      "torch.Size([100, 784]) torch.Size([100])\n",
      "torch.Size([100, 784]) torch.Size([100])\n",
      "torch.Size([100, 784]) torch.Size([100])\n",
      "torch.Size([100, 784]) torch.Size([100])\n",
      "torch.Size([100, 784]) torch.Size([100])\n",
      "torch.Size([100, 784]) torch.Size([100])\n",
      "torch.Size([100, 784]) torch.Size([100])\n",
      "torch.Size([100, 784]) torch.Size([100])\n",
      "torch.Size([100, 784]) torch.Size([100])\n",
      "torch.Size([100, 784]) torch.Size([100])\n",
      "torch.Size([100, 784]) torch.Size([100])\n",
      "torch.Size([100, 784]) torch.Size([100])\n",
      "torch.Size([100, 784]) torch.Size([100])\n",
      "torch.Size([100, 784]) torch.Size([100])\n",
      "torch.Size([100, 784]) torch.Size([100])\n",
      "torch.Size([100, 784]) torch.Size([100])\n",
      "torch.Size([100, 784]) torch.Size([100])\n",
      "torch.Size([100, 784]) torch.Size([100])\n",
      "torch.Size([100, 784]) torch.Size([100])\n",
      "torch.Size([100, 784]) torch.Size([100])\n",
      "torch.Size([100, 784]) torch.Size([100])\n",
      "torch.Size([100, 784]) torch.Size([100])\n",
      "torch.Size([100, 784]) torch.Size([100])\n",
      "torch.Size([100, 784]) torch.Size([100])\n",
      "torch.Size([100, 784]) torch.Size([100])\n",
      "torch.Size([100, 784]) torch.Size([100])\n",
      "torch.Size([100, 784]) torch.Size([100])\n",
      "torch.Size([100, 784]) torch.Size([100])\n",
      "torch.Size([100, 784]) torch.Size([100])\n",
      "torch.Size([100, 784]) torch.Size([100])\n",
      "torch.Size([100, 784]) torch.Size([100])\n",
      "torch.Size([100, 784]) torch.Size([100])\n",
      "torch.Size([100, 784]) torch.Size([100])\n",
      "torch.Size([100, 784]) torch.Size([100])\n",
      "torch.Size([100, 784]) torch.Size([100])\n",
      "torch.Size([100, 784]) torch.Size([100])\n",
      "torch.Size([100, 784]) torch.Size([100])\n",
      "torch.Size([100, 784]) torch.Size([100])\n",
      "torch.Size([100, 784]) torch.Size([100])\n",
      "torch.Size([100, 784]) torch.Size([100])\n",
      "torch.Size([100, 784]) torch.Size([100])\n",
      "torch.Size([100, 784]) torch.Size([100])\n",
      "torch.Size([100, 784]) torch.Size([100])\n",
      "torch.Size([100, 784]) torch.Size([100])\n",
      "torch.Size([100, 784]) torch.Size([100])\n",
      "torch.Size([100, 784]) torch.Size([100])\n",
      "torch.Size([100, 784]) torch.Size([100])\n",
      "torch.Size([100, 784]) torch.Size([100])\n",
      "torch.Size([100, 784]) torch.Size([100])\n",
      "torch.Size([100, 784]) torch.Size([100])\n",
      "torch.Size([100, 784]) torch.Size([100])\n",
      "torch.Size([100, 784]) torch.Size([100])\n",
      "torch.Size([100, 784]) torch.Size([100])\n",
      "torch.Size([100, 784]) torch.Size([100])\n",
      "torch.Size([100, 784]) torch.Size([100])\n",
      "torch.Size([100, 784]) torch.Size([100])\n",
      "torch.Size([100, 784]) torch.Size([100])\n",
      "torch.Size([100, 784]) torch.Size([100])\n",
      "torch.Size([100, 784]) torch.Size([100])\n",
      "torch.Size([100, 784]) torch.Size([100])\n",
      "torch.Size([100, 784]) torch.Size([100])\n",
      "torch.Size([100, 784]) torch.Size([100])\n",
      "torch.Size([100, 784]) torch.Size([100])\n",
      "torch.Size([100, 784]) torch.Size([100])\n",
      "torch.Size([100, 784]) torch.Size([100])\n",
      "torch.Size([100, 784]) torch.Size([100])\n",
      "torch.Size([100, 784]) torch.Size([100])\n",
      "torch.Size([100, 784]) torch.Size([100])\n",
      "torch.Size([100, 784]) torch.Size([100])\n",
      "torch.Size([100, 784]) torch.Size([100])\n",
      "torch.Size([100, 784]) torch.Size([100])\n",
      "torch.Size([100, 784]) torch.Size([100])\n",
      "torch.Size([100, 784]) torch.Size([100])\n",
      "torch.Size([100, 784]) torch.Size([100])\n",
      "torch.Size([100, 784]) torch.Size([100])\n",
      "torch.Size([100, 784]) torch.Size([100])\n",
      "torch.Size([100, 784]) torch.Size([100])\n",
      "torch.Size([100, 784]) torch.Size([100])\n",
      "torch.Size([100, 784]) torch.Size([100])\n",
      "torch.Size([100, 784]) torch.Size([100])\n",
      "torch.Size([100, 784]) torch.Size([100])\n",
      "torch.Size([100, 784]) torch.Size([100])\n",
      "torch.Size([100, 784]) torch.Size([100])\n",
      "torch.Size([100, 784]) torch.Size([100])\n",
      "torch.Size([100, 784]) torch.Size([100])\n",
      "torch.Size([100, 784]) torch.Size([100])\n",
      "torch.Size([100, 784]) torch.Size([100])\n",
      "torch.Size([100, 784]) torch.Size([100])\n",
      "torch.Size([100, 784]) torch.Size([100])\n",
      "torch.Size([100, 784]) torch.Size([100])\n",
      "torch.Size([100, 784]) torch.Size([100])\n",
      "torch.Size([100, 784]) torch.Size([100])\n",
      "torch.Size([100, 784]) torch.Size([100])\n",
      "torch.Size([100, 784]) torch.Size([100])\n",
      "torch.Size([100, 784]) torch.Size([100])\n",
      "torch.Size([100, 784]) torch.Size([100])\n",
      "torch.Size([100, 784]) torch.Size([100])\n",
      "torch.Size([100, 784]) torch.Size([100])\n",
      "torch.Size([100, 784]) torch.Size([100])\n",
      "torch.Size([100, 784]) torch.Size([100])\n",
      "torch.Size([100, 784]) torch.Size([100])\n",
      "torch.Size([100, 784]) torch.Size([100])\n",
      "torch.Size([100, 784]) torch.Size([100])\n",
      "torch.Size([100, 784]) torch.Size([100])\n",
      "torch.Size([100, 784]) torch.Size([100])\n",
      "torch.Size([100, 784]) torch.Size([100])\n",
      "torch.Size([100, 784]) torch.Size([100])\n",
      "torch.Size([100, 784]) torch.Size([100])\n",
      "torch.Size([100, 784]) torch.Size([100])\n",
      "torch.Size([100, 784]) torch.Size([100])\n",
      "torch.Size([100, 784]) torch.Size([100])\n",
      "torch.Size([100, 784]) torch.Size([100])\n",
      "torch.Size([100, 784]) torch.Size([100])\n",
      "torch.Size([100, 784]) torch.Size([100])\n",
      "torch.Size([100, 784]) torch.Size([100])\n",
      "torch.Size([100, 784]) torch.Size([100])\n",
      "torch.Size([100, 784]) torch.Size([100])\n",
      "torch.Size([100, 784]) torch.Size([100])\n",
      "torch.Size([100, 784]) torch.Size([100])\n",
      "torch.Size([100, 784]) torch.Size([100])\n",
      "torch.Size([100, 784]) torch.Size([100])\n",
      "torch.Size([100, 784]) torch.Size([100])\n",
      "torch.Size([100, 784]) torch.Size([100])\n",
      "torch.Size([100, 784]) torch.Size([100])\n",
      "torch.Size([100, 784]) torch.Size([100])\n",
      "torch.Size([100, 784]) torch.Size([100])\n",
      "torch.Size([100, 784]) torch.Size([100])\n",
      "torch.Size([100, 784]) torch.Size([100])\n",
      "torch.Size([100, 784]) torch.Size([100])\n",
      "torch.Size([100, 784]) torch.Size([100])\n",
      "torch.Size([100, 784]) torch.Size([100])\n",
      "torch.Size([100, 784]) torch.Size([100])\n",
      "torch.Size([100, 784]) torch.Size([100])\n",
      "torch.Size([100, 784]) torch.Size([100])\n",
      "torch.Size([100, 784]) torch.Size([100])\n",
      "torch.Size([100, 784]) torch.Size([100])\n",
      "torch.Size([100, 784]) torch.Size([100])\n",
      "torch.Size([100, 784]) torch.Size([100])\n",
      "torch.Size([100, 784]) torch.Size([100])\n",
      "torch.Size([100, 784]) torch.Size([100])\n",
      "torch.Size([100, 784]) torch.Size([100])\n",
      "torch.Size([100, 784]) torch.Size([100])\n",
      "torch.Size([100, 784]) torch.Size([100])\n",
      "torch.Size([100, 784]) torch.Size([100])\n",
      "torch.Size([100, 784]) torch.Size([100])\n",
      "torch.Size([100, 784]) torch.Size([100])\n",
      "torch.Size([100, 784]) torch.Size([100])\n",
      "torch.Size([100, 784]) torch.Size([100])\n",
      "torch.Size([100, 784]) torch.Size([100])\n",
      "torch.Size([100, 784]) torch.Size([100])\n",
      "torch.Size([100, 784]) torch.Size([100])\n",
      "torch.Size([100, 784]) torch.Size([100])\n",
      "torch.Size([100, 784]) torch.Size([100])\n",
      "torch.Size([100, 784]) torch.Size([100])\n",
      "torch.Size([100, 784]) torch.Size([100])\n",
      "torch.Size([100, 784]) torch.Size([100])\n",
      "torch.Size([100, 784]) torch.Size([100])\n",
      "torch.Size([100, 784]) torch.Size([100])\n",
      "torch.Size([100, 784]) torch.Size([100])\n",
      "torch.Size([100, 784]) torch.Size([100])\n",
      "torch.Size([100, 784]) torch.Size([100])\n",
      "torch.Size([100, 784]) torch.Size([100])\n",
      "torch.Size([100, 784]) torch.Size([100])\n",
      "torch.Size([100, 784]) torch.Size([100])\n",
      "torch.Size([100, 784]) torch.Size([100])\n",
      "torch.Size([100, 784]) torch.Size([100])\n",
      "torch.Size([100, 784]) torch.Size([100])\n",
      "torch.Size([100, 784]) torch.Size([100])\n",
      "torch.Size([100, 784]) torch.Size([100])\n",
      "torch.Size([100, 784]) torch.Size([100])\n",
      "torch.Size([100, 784]) torch.Size([100])\n",
      "torch.Size([100, 784]) torch.Size([100])\n",
      "torch.Size([100, 784]) torch.Size([100])\n",
      "torch.Size([100, 784]) torch.Size([100])\n",
      "torch.Size([100, 784]) torch.Size([100])\n",
      "torch.Size([100, 784]) torch.Size([100])\n",
      "torch.Size([100, 784]) torch.Size([100])\n",
      "torch.Size([100, 784]) torch.Size([100])\n",
      "torch.Size([100, 784]) torch.Size([100])\n",
      "torch.Size([100, 784]) torch.Size([100])\n",
      "torch.Size([100, 784]) torch.Size([100])\n",
      "torch.Size([100, 784]) torch.Size([100])\n",
      "torch.Size([100, 784]) torch.Size([100])\n",
      "torch.Size([100, 784]) torch.Size([100])\n",
      "torch.Size([100, 784]) torch.Size([100])\n",
      "torch.Size([100, 784]) torch.Size([100])\n",
      "torch.Size([100, 784]) torch.Size([100])\n",
      "torch.Size([100, 784]) torch.Size([100])\n",
      "torch.Size([100, 784]) torch.Size([100])\n",
      "torch.Size([100, 784]) torch.Size([100])\n",
      "torch.Size([100, 784]) torch.Size([100])\n",
      "torch.Size([100, 784]) torch.Size([100])\n",
      "torch.Size([100, 784]) torch.Size([100])\n",
      "torch.Size([100, 784]) torch.Size([100])\n",
      "torch.Size([100, 784]) torch.Size([100])\n",
      "torch.Size([100, 784]) torch.Size([100])\n",
      "torch.Size([100, 784]) torch.Size([100])\n",
      "torch.Size([100, 784]) torch.Size([100])\n",
      "torch.Size([100, 784]) torch.Size([100])\n",
      "torch.Size([100, 784]) torch.Size([100])\n",
      "torch.Size([100, 784]) torch.Size([100])\n",
      "torch.Size([100, 784]) torch.Size([100])\n",
      "torch.Size([100, 784]) torch.Size([100])\n",
      "torch.Size([100, 784]) torch.Size([100])\n",
      "torch.Size([100, 784]) torch.Size([100])\n",
      "torch.Size([100, 784]) torch.Size([100])\n",
      "torch.Size([100, 784]) torch.Size([100])\n",
      "torch.Size([100, 784]) torch.Size([100])\n",
      "torch.Size([100, 784]) torch.Size([100])\n",
      "torch.Size([100, 784]) torch.Size([100])\n",
      "torch.Size([100, 784]) torch.Size([100])\n",
      "torch.Size([100, 784]) torch.Size([100])\n",
      "torch.Size([100, 784]) torch.Size([100])\n",
      "torch.Size([100, 784]) torch.Size([100])\n",
      "torch.Size([100, 784]) torch.Size([100])\n",
      "torch.Size([100, 784]) torch.Size([100])\n",
      "torch.Size([100, 784]) torch.Size([100])\n",
      "torch.Size([100, 784]) torch.Size([100])\n",
      "torch.Size([100, 784]) torch.Size([100])\n",
      "torch.Size([100, 784]) torch.Size([100])\n",
      "torch.Size([100, 784]) torch.Size([100])\n"
     ]
    }
   ],
   "source": [
    "for x, t in train_dataloder:\n",
    "    print(x.shape, t.shape)"
   ]
  },
  {
   "cell_type": "markdown",
   "metadata": {},
   "source": [
    "### 3 自作Datasetクラス"
   ]
  },
  {
   "cell_type": "markdown",
   "metadata": {},
   "source": [
    "#### 3.1 簡単なDataset"
   ]
  },
  {
   "cell_type": "code",
   "execution_count": 60,
   "metadata": {},
   "outputs": [],
   "source": [
    "class Dataset:\n",
    "    def __init__(self):\n",
    "        self.data = [1, 2, 3, 4, 5]\n",
    "        self.label = [0, 0, 0, 1, 1]\n",
    "    def __getitem__(self, index):\n",
    "        return self.data[index], self.label[index]\n",
    "    def __len__(self):\n",
    "        return len(self.data)"
   ]
  },
  {
   "cell_type": "code",
   "execution_count": 61,
   "metadata": {},
   "outputs": [],
   "source": [
    "dataset = Dataset()"
   ]
  },
  {
   "cell_type": "code",
   "execution_count": 62,
   "metadata": {},
   "outputs": [
    {
     "data": {
      "text/plain": [
       "<__main__.Dataset at 0x12bb76ae0>"
      ]
     },
     "execution_count": 62,
     "metadata": {},
     "output_type": "execute_result"
    }
   ],
   "source": [
    "dataset"
   ]
  },
  {
   "cell_type": "code",
   "execution_count": 63,
   "metadata": {},
   "outputs": [
    {
     "name": "stdout",
     "output_type": "stream",
     "text": [
      "(1, 0) (2, 0) (3, 0) (4, 1) (5, 1)\n",
      "5\n"
     ]
    }
   ],
   "source": [
    "print(dataset[0], dataset[1], dataset[2], dataset[3], dataset[4])\n",
    "print(len(dataset))"
   ]
  },
  {
   "cell_type": "code",
   "execution_count": 70,
   "metadata": {},
   "outputs": [],
   "source": [
    "class Dataset2:\n",
    "    def __init__(self, transform_data=None, transform_label=None):\n",
    "        self.data = [1, 2, 3, 4, 5, 6]\n",
    "        self.label = [0, 0, 0, 1, 1, 1]\n",
    "        self.transform_data = transform_data\n",
    "        self.transform_label = transform_label\n",
    "    def __getitem__(self, index):\n",
    "        x = self.data[index]\n",
    "        t = self.label[index]\n",
    "        if self.transform_data:\n",
    "            x = self.transform_data(self.data[index])\n",
    "        if self.transform_label:\n",
    "            t = self.transform_label(self.label[index])\n",
    "        return x, t\n",
    "    def __len__(self):\n",
    "        return len(self.data)"
   ]
  },
  {
   "cell_type": "code",
   "execution_count": 71,
   "metadata": {},
   "outputs": [],
   "source": [
    "dataset2 = Dataset2()"
   ]
  },
  {
   "cell_type": "code",
   "execution_count": 73,
   "metadata": {},
   "outputs": [
    {
     "name": "stdout",
     "output_type": "stream",
     "text": [
      "(1, 0) (2, 0) (3, 0) (4, 1) (5, 1) (6, 1)\n",
      "6\n"
     ]
    }
   ],
   "source": [
    "print(dataset2[0], dataset2[1], dataset2[2], dataset2[3], dataset2[4], dataset2[5])\n",
    "print(len(dataset2))"
   ]
  },
  {
   "cell_type": "code",
   "execution_count": 74,
   "metadata": {},
   "outputs": [],
   "source": [
    "transform = lambda x: x + 10\n",
    "dataset3 = Dataset2(transform_data=transform)"
   ]
  },
  {
   "cell_type": "code",
   "execution_count": 75,
   "metadata": {},
   "outputs": [
    {
     "name": "stdout",
     "output_type": "stream",
     "text": [
      "(11, 0) (12, 0) (13, 0) (14, 1) (15, 1) (16, 1)\n",
      "6\n"
     ]
    }
   ],
   "source": [
    "print(dataset3[0], dataset3[1], dataset3[2], dataset3[3], dataset3[4], dataset3[5])\n",
    "print(len(dataset3))"
   ]
  },
  {
   "cell_type": "markdown",
   "metadata": {},
   "source": [
    "#### 3.3 Dataloaderに適応"
   ]
  },
  {
   "cell_type": "code",
   "execution_count": 76,
   "metadata": {},
   "outputs": [],
   "source": [
    "dataloader = DataLoader(dataset3, batch_size=2, shuffle=True)"
   ]
  },
  {
   "cell_type": "code",
   "execution_count": 77,
   "metadata": {},
   "outputs": [
    {
     "data": {
      "text/plain": [
       "<torch.utils.data.dataloader.DataLoader at 0x12bbbe3f0>"
      ]
     },
     "execution_count": 77,
     "metadata": {},
     "output_type": "execute_result"
    }
   ],
   "source": [
    "dataloader"
   ]
  },
  {
   "cell_type": "code",
   "execution_count": 78,
   "metadata": {},
   "outputs": [
    {
     "name": "stdout",
     "output_type": "stream",
     "text": [
      "tensor([14, 15]) tensor([1, 1])\n",
      "tensor([11, 16]) tensor([0, 1])\n",
      "tensor([12, 13]) tensor([0, 0])\n"
     ]
    }
   ],
   "source": [
    "for x, t in dataloader:\n",
    "    print(x, t)"
   ]
  },
  {
   "cell_type": "code",
   "execution_count": null,
   "metadata": {},
   "outputs": [],
   "source": []
  }
 ],
 "metadata": {
  "kernelspec": {
   "display_name": "Python 3",
   "language": "python",
   "name": "python3"
  },
  "language_info": {
   "codemirror_mode": {
    "name": "ipython",
    "version": 3
   },
   "file_extension": ".py",
   "mimetype": "text/x-python",
   "name": "python",
   "nbconvert_exporter": "python",
   "pygments_lexer": "ipython3",
   "version": "3.12.2"
  }
 },
 "nbformat": 4,
 "nbformat_minor": 2
}
