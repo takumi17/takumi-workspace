{
 "cells": [
  {
   "cell_type": "code",
   "execution_count": 1,
   "metadata": {},
   "outputs": [],
   "source": [
    "%matplotlib inline"
   ]
  },
  {
   "cell_type": "code",
   "execution_count": 2,
   "metadata": {},
   "outputs": [],
   "source": [
    "import torch\n",
    "import torchvision\n",
    "import torchvision.transforms as transforms"
   ]
  },
  {
   "cell_type": "markdown",
   "metadata": {},
   "source": [
    "- matplotlib: グラフや図を作成するためのライブラリ\n",
    "- torch: 深層学習フレームワークであるPyTorchの本体\n",
    "- torchvision: PyTorch専用の画像処理ライブラリ"
   ]
  },
  {
   "cell_type": "code",
   "execution_count": 3,
   "metadata": {},
   "outputs": [
    {
     "name": "stdout",
     "output_type": "stream",
     "text": [
      "Files already downloaded and verified\n",
      "Files already downloaded and verified\n"
     ]
    }
   ],
   "source": [
    "transform = transforms.Compose(\n",
    "    [transforms.ToTensor(),\n",
    "     transforms.Normalize((0.5, 0.5, 0.5), (0.5, 0.5, 0.5))])\n",
    "\n",
    "trainset = torchvision.datasets.CIFAR10(root='./data', train=True,\n",
    "                                        download=True, transform=transform)\n",
    "trainloader = torch.utils.data.DataLoader(trainset, batch_size=4,\n",
    "                                          shuffle=True, num_workers=2)\n",
    "\n",
    "testset = torchvision.datasets.CIFAR10(root='./data', train=False,\n",
    "                                       download=True, transform=transform)\n",
    "testloader = torch.utils.data.DataLoader(testset, batch_size=4,\n",
    "                                         shuffle=False, num_workers=2)\n",
    "\n",
    "classes = ('plane', 'car', 'bird', 'cat',\n",
    "           'deer', 'dog', 'frog', 'horse', 'ship', 'truck')"
   ]
  },
  {
   "cell_type": "markdown",
   "metadata": {},
   "source": [
    "このコードブロックは, 画像データの前処理と変換を行うための処理　　\n",
    "- `transforms.Compose` は, 複数の変換処理を順番に実行するための関数.  \n",
    "- `transforms.ToTensor()` は, PIL Image 形式の画像データを PyTorch の Tensor 形式に変換します. Tensor 形式は, 深層学習モデルで計算を行うために適した形式.  \n",
    "    - データ形式の変換: PIL Image 形式のデータは, $0$ ～ $1$ の範囲の数値で表現されるが, Tensor 形式では $-1$ ～ $1$ の範囲の数値に変換される.  \n",
    "    - チャネルの並べ替え: カラー画像の場合、PIL Image 形式では (R, G, B) の順序でチャネルが並んでいる. 一方, Tensor 形式では (C, H, W) の順序でチャネルが並んでいる. この関数は, チャネルの並べ替えを (C, H, W) に行う.  \n",
    "    - テンソルへの変換: データ形式とチャネルの並べ替えを行った後, データを PyTorch Tensor 形式に変換する.  \n",
    "- `transforms.Normalize((0.5, 0.5, 0.5), (0.5, 0.5, 0.5))` は, 画像データの各ピクセル値を正規化する. 正規化とは, 各ピクセル値の平均を $0.5$ に、標準偏差を $0.5$ に調整する処理. この処理により, モデルが学習しやすくなる.  \n",
    "\n",
    "- 訓練データセットの作成 `torchvision.datasets.CIFAR10` 関数  \n",
    "    - `root='./data` : データセットを保存するディレクトリを `./data` に設定する. このディレクトリが存在しない場合は, 自動的に作成される.  \n",
    "    - `train=True` : 訓練データセットを作成することを指定する. テストデータセットを作成するには, `train=False` を設定する.  \n",
    "    - `download=True` : データセットが存在しない場合は, 自動的にダウンロードすることを指定する.  \n",
    "    - `transform=transform` : 前処理と変換で定義した処理をデータセットに適用することを指定する.  \n",
    "\n",
    "- 訓練データローダーの作成 `torch.utils.data.DataLoader` 関数\n",
    "    - `dataset`: 訓練データセット `trainset` を指定する.  \n",
    "    - `batch_size`: ミニバッチのサイズを $4$ に設定する. つまり, $4$ 枚の画像を $1$ つのミニバッチとして処理する.  \n",
    "    - `shuffle`: データセットをシャッフルすることを指定する. これは, モデルがデータの偏りに影響を受けないようにするために重要.  \n",
    "    - `num_workers`: データの読み込みに使用するワーカースレッドの数を $2$ に設定する. つまり, $2$ つのスレッドを並行処理で使用してデータを読み込む.  \n",
    "\n",
    "- テストデータセットの作成 `torchvision.datasets.CIFAR10` 関数  \n",
    "訓練データと同様\n",
    "\n",
    "- テストデータローダーの作成 `torch.utils.data.DataLoader` 関数  \n",
    "訓練データと同様\n",
    "\n",
    "**データローダーとは** \n",
    "- データの読み込み: データセットからデータをミニバッチと呼ばれる小さなまとまりのデータに分割し, 順番に読み込む.  \n",
    "- データの前処理: 必要に応じて, データの前処理 (正規化、標準化など) を行う.  \n",
    "- データの転送: データを GPU などの計算デバイスに転送する.  \n",
    "\n",
    "**ミニバッチとは**\n",
    "深層学習モデルの訓練や評価時に使用する小さなまとまりのデータである.  \n",
    "計算量の削減, メモリ使用量の削減, 学習速度の向上などのメリットがある.  \n",
    "\n",
    "**テストデータセットとは**\n",
    "テストデータセットは, 深層学習モデルの性能を評価するために使用されるデータセット.  \n",
    "訓練データセットとは異なるデータを使用してモデルを評価することで, モデルが汎化性能を持っているかどうかを確認することができる.\n",
    "\n",
    "**ワーカースレッドとは**  \n",
    "ワーカースレッドは, コンピュータプログラムにおいて, 処理を並行して実行するために使用されるスレッドの一種.  \n",
    "メインスレッドとは別に独立して動作し, 特定のタスクを実行するように指示される.  \n",
    "ワーカースレッドを使用することで, プログラム全体の処理速度を向上させ, 応答性を改善することができる."
   ]
  },
  {
   "cell_type": "code",
   "execution_count": 4,
   "metadata": {},
   "outputs": [
    {
     "data": {
      "image/png": "[encoded data removed]",
      "text/plain": [
       "<Figure size 640x480 with 1 Axes>"
      ]
     },
     "metadata": {},
     "output_type": "display_data"
    },
    {
     "name": "stdout",
     "output_type": "stream",
     "text": [
      "  cat  bird  bird plane\n"
     ]
    }
   ],
   "source": [
    "import matplotlib.pyplot as plt\n",
    "import numpy as np\n",
    "\n",
    "# 画像の表示関数\n",
    "\n",
    "\n",
    "def imshow(img):\n",
    "    img = img / 2 + 0.5     # 正規化を戻す\n",
    "    npimg = img.numpy()\n",
    "    plt.imshow(np.transpose(npimg, (1, 2, 0)))\n",
    "    plt.show()\n",
    "\n",
    "# 適当な訓練セットの画像を取得\n",
    "for data in trainloader:\n",
    "    images, labels = data\n",
    "    break  # デモ用に1つのバッチのみ処理\n",
    "\n",
    "# 画像の表示\n",
    "imshow(torchvision.utils.make_grid(images))\n",
    "\n",
    "# ラベルの表示\n",
    "print(' '.join('%5s' % classes[labels[j]] for j in range(4)))"
   ]
  },
  {
   "cell_type": "markdown",
   "metadata": {},
   "source": [
    "- 画像表示関数 `imshow` の定義  \n",
    "    - `img = img / 2 + 0.5` : この式は, 画像データの正規化を元に戻す. 訓練時にデータの値域を $0$ から $1$ に正規化していた場合, この式で元に戻すことができる.  \n",
    "    - `npimg = img.numpy()` : この式は, PyTorchのテンソル形式のデータを, NumPyの配列に変換する. `Matplotlib` は `NumPy` の配列を扱えるため, この変換が必要になる.  \n",
    "    - `plt.imshow(np.transpose(npimg, (1, 2, 0)))` : この式は, `NumPy` の配列を `Matplotlib` で表示できる形式に変換し, 画像として表示する. `PyTorch` と `Matplotlib` では, 画像のチャンネルの並び方が異なるため, `np.transpose` を使って並び替えを行っている.  \n",
    "    - `plt.show()` : この式は, `Matplotlib` で作成した画像を表示する.   \n",
    "\n",
    "- 訓練セットの画像取得  \n",
    "この部分は、訓練データセットから1つのバッチ分の画像とラベルを取得する.  \n",
    "`trainloader` : 訓練データセットを読み込むためのローダー  \n",
    "`images` : バッチ中の画像データ  \n",
    "`labels` : バッチ中のラベルデータ  "
   ]
  },
  {
   "cell_type": "code",
   "execution_count": 5,
   "metadata": {},
   "outputs": [],
   "source": [
    "import torch.nn as nn\n",
    "import torch.nn.functional as F\n",
    "\n",
    "\n",
    "class Net(nn.Module):\n",
    "    def __init__(self):\n",
    "        super(Net, self).__init__()\n",
    "        self.conv1 = nn.Conv2d(3, 6, 5)\n",
    "        self.pool = nn.MaxPool2d(2, 2)\n",
    "        self.conv2 = nn.Conv2d(6, 16, 5)\n",
    "        self.fc1 = nn.Linear(16 * 5 * 5, 120)\n",
    "        self.fc2 = nn.Linear(120, 84)\n",
    "        self.fc3 = nn.Linear(84, 10)\n",
    "\n",
    "    def forward(self, x):\n",
    "        x = self.pool(F.relu(self.conv1(x)))\n",
    "        x = self.pool(F.relu(self.conv2(x)))\n",
    "        x = x.view(-1, 16 * 5 * 5)\n",
    "        x = F.relu(self.fc1(x))\n",
    "        x = F.relu(self.fc2(x))\n",
    "        x = self.fc3(x)\n",
    "        return x\n",
    "\n",
    "\n",
    "net = Net()"
   ]
  },
  {
   "cell_type": "markdown",
   "metadata": {},
   "source": [
    "- ライブラリのインポート\n",
    "    - `torch.nn` : ニューラルネットワーク構築のためのモジュール\n",
    "    - `torch.nn.functional` :よく使う活性化関数やプーリング層などの機能をインポート\n",
    "\n",
    "- Netクラスの定義\n",
    "`Net` という名前でクラスを定義している. これは, ニューラルネットワーク全体のモデルを表す.  \n",
    "`nn.Module` を継承することで, `PyTorch`が認識できるモデルとして定義される.  \n",
    "\n",
    "- __init__ 関数は, モデルの初期化処理を定義する. ここで, モデルのパラメータとなる畳み込み層 (Conv2d) や線形層 (Linear) をインスタンス化し, 属性として保持する. \n",
    "    - `self.conv1` : 入力チャネル数 $3$ , 出力チャネル数 $6$ , カーネルサイズ $5\\times 5$ の畳み込み層\n",
    "    - `self.pool` : $2\\times 2$ のプーリング層\n",
    "    - `self.conv2` : 入力チャネル数 $6$ , 出力チャネル数 $16$ カーネルサイズ $5\\times 5$ の畳み込み層\n",
    "    - `self.fc1` : $16 * 5 * 5$ 個の入力を $120$ 個の出力に変換する線形層\n",
    "    - `self.fc2` : $120$ 個の入力を $84$ 個の出力に変換する線形層\n",
    "    - `self.fc3` : $84$ 個の入力を $10$ 個の出力に変換する線形層\n",
    "\n",
    "- `forward` 関数は, モデルに入力されたデータに対してどのような処理を行うかを定義する. これが, モデルの推論過程で実際に実行される部分. `x` は、モデルに入力されるデータ (テンソル) を表す. \n",
    "    - `self.conv1(x)` : 畳み込み層 $1$ で入力データと畳み込み演算を行い, 特徴マップを出力する.\n",
    "    - `F.relu(self.conv1(x))` : ReLU活性化関数を用いて, 非線形性を導入.\n",
    "    - `self.pool(F.relu(self.conv1(x)))` : プーリング層で特徴マップを縮小し, 空間的な情報を圧縮する.\n",
    "    - `self.conv2(x)` : 畳み込み層 $2$ で特徴マップと畳み込み演算を行い, 特徴マップを出力する.\n",
    "    - `F.relu(self.conv2(x))` : ReLU活性化関数を用いて、非線形性を導入します。\n",
    "    - `self.pool(F.relu(self.conv2(x)))` : プーリング層で特徴マップを縮小し, 空間的な情報を圧縮する.\n",
    "    - `x.view(-1, 16 * 5 * 5)` : $3$ 次元テンソルを $1$ 次元に平坦化し, 全結合層の入力に適した形状に変換.\n",
    "    - `F.relu(self.fc1(x))` : 全結合層 $1$\n"
   ]
  },
  {
   "cell_type": "code",
   "execution_count": 6,
   "metadata": {},
   "outputs": [],
   "source": [
    "import torch.optim as optim\n",
    "\n",
    "criterion = nn.CrossEntropyLoss()\n",
    "optimizer = optim.SGD(net.parameters(), lr=0.001, momentum=0.9)"
   ]
  },
  {
   "cell_type": "markdown",
   "metadata": {},
   "source": [
    "このコードは, PyTorchモデルの訓練に必要な最適化アルゴリズムと損失関数を設定する部分.  \n",
    "\n",
    "1. 損失関数の設定：criterion = nn.CrossEntropyLoss()\n",
    "- `nn.CrossEntropyLoss()` : 交差エントロピー損失関数を定義する. これは, 多クラス分類タスクにおいてよく用いられる損失関数.\n",
    "    - 複数クラスへの分類問題において, モデルが誤ったクラスを推論した場合にどのくらい誤っているかを評価する. \n",
    "    - 具体的な計算式は複雑ですが, モデルの予測確率と正解ラベルとの間の情報量に基づいて算出される.\n",
    "\n",
    "2. 最適化アルゴリズムの設定：`optimizer = optim.SGD(net.parameters(), lr=0.001, momentum=0.9)`\n",
    "- `optim.SGD` : 確率的勾配降下法 (SGD) という最適化アルゴリズムを定義. これは, ニューラルネットワークの訓練において最も基本的なアルゴリズムの一つ.\n",
    "    - モデルのパラメータを更新することで, 損失関数を最小化するようにモデルを学習させる.\n",
    "    - 具体的には, 勾配と呼ばれるパラメータの変化量を計算し, その逆方向にパラメータを更新していく.\n",
    "- `net.parameters()` : モデルのパラメータを取得する.\n",
    "- `lr=0.001` : 学習率を設定する. これは, パラメータ更新の大きさを制御するパラメータであり, $0.001$ という値は一般的な設定.\n",
    "- `momentum=0.9` : モメンタムを設定. これは, 過去の更新方向を考慮したパラメータ更新を行うためのパラメータであり, $0.9$ という値は安定した学習に役立つと言われている."
   ]
  },
  {
   "cell_type": "code",
   "execution_count": 7,
   "metadata": {},
   "outputs": [
    {
     "name": "stdout",
     "output_type": "stream",
     "text": [
      "[1,  2000] loss: 2.165\n",
      "[1,  4000] loss: 1.891\n",
      "[1,  6000] loss: 1.690\n",
      "[1,  8000] loss: 1.623\n",
      "[1, 10000] loss: 1.537\n",
      "[1, 12000] loss: 1.497\n",
      "[2,  2000] loss: 1.416\n",
      "[2,  4000] loss: 1.381\n",
      "[2,  6000] loss: 1.342\n",
      "[2,  8000] loss: 1.330\n",
      "[2, 10000] loss: 1.298\n",
      "[2, 12000] loss: 1.287\n",
      "Finished Training\n"
     ]
    }
   ],
   "source": [
    "for epoch in range(2):  # エポック数分ループを回します\n",
    "\n",
    "    running_loss = 0.0\n",
    "    for i, data in enumerate(trainloader, 0):\n",
    "        # データセットのデータを [inputs, labels]の形で取得\n",
    "        inputs, labels = data\n",
    "\n",
    "        # パラメータの勾配をリセット\n",
    "        optimizer.zero_grad()\n",
    "\n",
    "        # 順伝搬＋逆伝搬＋パラメータ更新\n",
    "        outputs = net(inputs)\n",
    "        loss = criterion(outputs, labels)\n",
    "        loss.backward()\n",
    "        optimizer.step()\n",
    "\n",
    "        # 統計情報の表示\n",
    "        running_loss += loss.item()\n",
    "        if i % 2000 == 1999:    # 2,000ミニバッチにつき1度表示\n",
    "            print('[%d, %5d] loss: %.3f' %\n",
    "                  (epoch + 1, i + 1, running_loss / 2000))\n",
    "            running_loss = 0.0\n",
    "\n",
    "print('Finished Training')"
   ]
  },
  {
   "cell_type": "markdown",
   "metadata": {},
   "source": [
    "\n",
    "このコードは, ニューラルネットワークモデルを訓練するための主要な部分である訓練ループを記述している.  \n",
    "\n",
    "1. エポックループ：`for epoch in range(2)`\n",
    "- このループは, エポックと呼ばれる単位でモデルを訓練する.\n",
    "- 今回のコードでは, `range(2)` で指定されているように, 2エポック分の訓練が行われる. \n",
    "- 1つのエポックでは, 訓練データセット全体を用いてモデルを学習させる. \n",
    "\n",
    "2. ミニバッチループ：`for i, data in enumerate(trainloader, 0)`\n",
    "- このループは, 訓練データセットをミニバッチと呼ばれる小さなデータ塊に分割し, 順々に処理していく. \n",
    "- `enumerate` 関数は, 各ミニバッチのインデックス `i` とそのミニバッチ `data` を取得するために使用される. \n",
    "- 1つのエポック中には, 訓練データセット全体をミニバッチ数だけ分割して処理することになる. \n",
    "\n",
    "3. ミニバッチ処理：`inputs, labels = data`\n",
    "- `data` は, ミニバッチ内のデータとラベルをタプル形式で格納している. \n",
    "- `inputs` は, モデルに入力する**画像データ**を表す. \n",
    "- `labels` は, 各画像に対応する**正解ラベル**を表す. \n",
    "\n",
    "4. 勾配初期化：`optimizer.zero_grad()`\n",
    "- 各ミニバッチの処理前に, モデルのパラメータの勾配を初期化. \n",
    "- 勾配は, モデルのパラメータを更新する際に必要となる情報であり, 初期化しないと過去の更新の影響が残ってしまう. \n",
    "- `optimizer.zero_grad()` は, 最適化アルゴリズム (SGD) における勾配初期化処理を実行する. \n",
    "\n",
    "5. 順伝搬：`outputs = net(inputs)`\n",
    "- 入力データ `inputs` をモデル `net` に入力し, 順伝搬を実行します. \n",
    "- 順伝搬とは, 入力データからモデルの出力まで計算を行う処理. \n",
    "- この処理により, モデルが各画像に対してどのようなクラスを予測するのかを出力 `outputs` として得ることができる. \n",
    "\n",
    "6. 損失計算：`loss = criterion(outputs, labels)`\n",
    "- モデルの予測出力 `outputs` と正解ラベル `labels` を用いて, 損失を計算します. \n",
    "- 損失は, モデルの予測と正解の誤差を数値化したものであり, この値を最小化することでモデルの精度を向上させることができます. \n",
    "- 今回のコードでは, `nn.CrossEntropyLoss()` 関数を使用しており, これは多クラス分類タスクにおける一般的な損失関数です. \n",
    "\n",
    "7. 逆伝搬：`loss.backward()`\n",
    "- 計算された損失 `loss` を用いて, 逆伝搬を実行します. \n",
    "- 逆伝搬とは, 損失が各パラメータに対してどの程度の影響を与えているのかを計算する処理です. \n",
    "- この処理により, 勾配が算出され, モデルのパラメータを更新するための準備が整います. \n",
    "\n",
    "8. パラメータ更新：`optimizer.step()`\n",
    "- 算出された勾配を用いて, モデルのパラメータを更新します. \n",
    "- この処理により, モデルは学習が進み, より正確な予測ができるように進化していきます. \n",
    "- `optimizer.step()` は, 最適化アルゴリズム (SGD) におけるパラメータ更新処理を実行します. \n",
    "\n",
    "9. 統計情報の表示：`if i % 2000 == 1999:`\n",
    "- 2000ミニバッチごとに, 平均損失を表示します. \n",
    "- 平均損失は, 現在の訓練状況を把握するための指標として役立ちます. \n",
    "- `%d` はエポック番号, `%5d` はミニバッチ番号, `%.3f` は損失の値を表すフォーマット指定子です. \n",
    "\n",
    "10. 訓練完了：`print('Finished Training')`\n",
    "- すべてのエポックが完了したら, `Finished Training` と表示して訓練完了を知らせます. "
   ]
  },
  {
   "cell_type": "code",
   "execution_count": 8,
   "metadata": {},
   "outputs": [],
   "source": [
    "PATH = './cifar_net.pth'\n",
    "torch.save(net.state_dict(), PATH)"
   ]
  },
  {
   "cell_type": "markdown",
   "metadata": {},
   "source": [
    "このコードは, 訓練済みのPyTorchモデルをファイルに保存する処理です. \n",
    "\n",
    "1. 保存先のパス設定：`PATH = './cifar_net.pth'`\n",
    "- `PATH` 変数に, モデルを保存するファイルのパスを設定します. \n",
    "- 今回は, `./cifar_net.pth` という名前で, 現在のディレクトリ直下に保存します. \n",
    "\n",
    "2. モデル状態の取得：`net.state_dict()`\n",
    "- `net.state_dict()` メソッドを呼び出すことで, モデルの状態を取得します. \n",
    "- モデルの状態には, モデルのパラメータや学習情報などが含まれます. \n",
    "- これらの情報は, モデルを復元したり, 他の環境で利用したりするために必要となります. \n",
    "\n",
    "3. モデル保存：`torch.save(net.state_dict(), PATH)`\n",
    "- `torch.save()` 関数を使用して, モデル状態を指定したパスに保存します. \n",
    "- 第一引数には, 保存したいデータ (今回はモデル状態) を指定します. \n",
    "- 第二引数には, 保存先のパスを指定します. \n",
    "\n",
    "4. 保存処理の役割\n",
    "- 訓練済みのモデルを保存することで, 以下の利点があります. \n",
    "    - 再利用: 訓練済みのモデルを再度利用したい場合, ファイルから読み込むことで, 再訓練せずに利用することができます. \n",
    "    - 共有: 訓練済みのモデルを他の人と共有したい場合, ファイルを共有することで簡単に共有することができます. \n",
    "    - デプロイ: 訓練済みのモデルを本番環境にデプロイしたい場合, ファイルをデプロイすることで利用することができます. \n",
    "\n"
   ]
  },
  {
   "cell_type": "code",
   "execution_count": 9,
   "metadata": {},
   "outputs": [
    {
     "data": {
      "image/png": "[encoded data removed]",
      "text/plain": [
       "<Figure size 640x480 with 1 Axes>"
      ]
     },
     "metadata": {},
     "output_type": "display_data"
    },
    {
     "name": "stdout",
     "output_type": "stream",
     "text": [
      "GroundTruth:    cat  ship  ship plane\n"
     ]
    }
   ],
   "source": [
    "# 適当な訓練セットの画像を取得\n",
    "for data in testloader:\n",
    "    images, labels = data\n",
    "    break  # Only process one batch for demonstration\n",
    "\n",
    "# 画像の表示\n",
    "imshow(torchvision.utils.make_grid(images))\n",
    "\n",
    "# ラベルの表示\n",
    "print('GroundTruth: ', ' '.join('%5s' % classes[labels[j]] for j in range(4)))"
   ]
  },
  {
   "cell_type": "markdown",
   "metadata": {},
   "source": [
    "このコードは, テストデータセットから一部の画像を取得し, それらを表示し, それらの画像ラベルを表示することを行っている.  \n",
    "\n",
    "1. テストデータの取得：`for data in testloader:`\n",
    "- `testloader` は, テストデータセットをミニバッチに分割したイテレータです. \n",
    "- このループは, テストデータセット内の1つのミニバッチのみ処理します. \n",
    "- これは, デモ目的でコードを簡素化するために行っています. \n",
    "- 実際のテストでは, すべてのミニバッチを処理する必要があります. \n",
    "- `data` は, ミニバッチ内の画像データとラベルをタプル形式で格納しています. \n",
    "- `images` は, モデルに入力する画像データを表します. \n",
    "- `labels` は, 各画像に対応する正解ラベルを表します. \n",
    "- `break` ステートメントによって, ループを1回のみ実行し, 1つのミニバッチのみ処理するようにしています. \n",
    "\n",
    "2. 画像の表示：`imshow(torchvision.utils.make_grid(images))`\n",
    "- `torchvision.utils.make_grid()` 関数を使用して, ミニバッチ内の複数画像を1つのグリッド画像にまとめます. \n",
    "- `imshow()` 関数を使用して, グリッド画像を画面に表示します. \n",
    "- この処理により, 実際にモデルに与えられた画像を確認することができます. \n",
    "\n",
    "3. ラベルの表示：`print('GroundTruth: ', ' '.join('%5s' % classes[labels[j]] for j in range(4)))`\n",
    "- `labels` から4つの画像のラベルを取り出し, それぞれを文字列に変換します. \n",
    "- `classes` は, ラベルに対応するクラス名称のリストです. \n",
    "- `' '.join()` 関数を使用して, 文字列をスペースで区切って結合します. \n",
    "- `print()` 関数を使用して, 結合された文字列を出力し, 正解ラベルを表示します. \n"
   ]
  },
  {
   "cell_type": "code",
   "execution_count": 10,
   "metadata": {},
   "outputs": [
    {
     "data": {
      "text/plain": [
       "<All keys matched successfully>"
      ]
     },
     "execution_count": 10,
     "metadata": {},
     "output_type": "execute_result"
    }
   ],
   "source": [
    "net = Net()\n",
    "net.load_state_dict(torch.load(PATH))"
   ]
  },
  {
   "cell_type": "markdown",
   "metadata": {},
   "source": [
    "このコードは, 保存済みのPyTorchモデルをファイルから読み込んで, 現在のプログラムで使用できるようにする処理です. \n",
    "\n",
    "1. モデルインスタンスの生成：`net = Net()`\n",
    "\n",
    "- まず, `Net` クラスを使って新しいモデルインスタンス `net` を生成します. \n",
    "- これは, モデルの構造を定義したクラスに基づいて, 空のモデルを作成する処理です. \n",
    "\n",
    "2. モデル状態の読み込み：`net.load_state_dict(torch.load(PATH))`\n",
    "\n",
    "- `torch.load()` 関数を使用して, `PATH` で指定されたファイルからモデル状態を読み込みます. \n",
    "- モデル状態には, モデルのパラメータや学習情報などが含まれています. \n",
    "- 読み込まれたモデル状態は, `net` という変数に格納されます. "
   ]
  },
  {
   "cell_type": "code",
   "execution_count": 11,
   "metadata": {},
   "outputs": [],
   "source": [
    "outputs = net(images)"
   ]
  },
  {
   "cell_type": "markdown",
   "metadata": {},
   "source": [
    "このコードは, 訓練済みのPyTorchモデルを用いて画像を推論し, その結果を出力する処理."
   ]
  },
  {
   "cell_type": "code",
   "execution_count": 12,
   "metadata": {},
   "outputs": [
    {
     "name": "stdout",
     "output_type": "stream",
     "text": [
      "Predicted:    cat   car   car plane\n"
     ]
    }
   ],
   "source": [
    "_, predicted = torch.max(outputs, 1)\n",
    "\n",
    "print('Predicted: ', ' '.join('%5s' % classes[predicted[j]]\n",
    "                              for j in range(4)))"
   ]
  },
  {
   "cell_type": "markdown",
   "metadata": {},
   "source": [
    "このコードは, PyTorchモデルの推論結果から各画像の予測ラベルを導き出し, それを可読な形式で表示する処理です. \n",
    "\n",
    "1. 確率の最大値とインデックス取得：`_, predicted = torch.max(outputs, 1)`\n",
    "\n",
    "- `torch.max()` 関数を使用して, `outputs` テンソルにおける各行の最大値とそのインデックスを取得します. \n",
    "    - `outputs` は, モデルの推論結果である各クラスごとの予測確率を格納したテンソルです. \n",
    "    - `dim=1` を指定することで, 各行 (画像) の最大値のみを計算します. \n",
    "- 取得結果は, 2つのタプル `_` と `predicted` に格納されます. \n",
    "    - `_` は, 最大値そのもの (数値) を格納しますが, 今回は使用しないので無視します. \n",
    "    - `predicted` は, 各行の最大値に対応するインデックス (クラス番号) を格納します. \n",
    "\n",
    "2. クラス予測の取得：`classes[predicted[j]]`\n",
    "\n",
    "- `classes` は, 各インデックスに対応するクラス名称のリストです. \n",
    "- `predicted[j]` は, j番目の画像の予測クラス番号を表します. \n",
    "- `classes[predicted[j]]` は, j番目の画像の予測クラス名称を表します. \n",
    "\n",
    "3. 予測結果の表示：`print('Predicted: ', ' '.join(...))`\n",
    "\n",
    "- `print()` 関数を使用して, 予測クラス名称をスペース区切りで結合した文字列を出力します. \n",
    "    - `' '.join()` 関数は, リスト内の要素をスペースで結合するために使用されます. \n",
    "    - `classes[predicted[j]]` は, 上記で説明したように, j番目の画像の予測クラス名称を表します. \n",
    "    - `for j in range(4)` は, 4つの画像に対してループ処理を行い, それぞれの予測クラス名称を出力します. \n"
   ]
  },
  {
   "cell_type": "code",
   "execution_count": 13,
   "metadata": {},
   "outputs": [
    {
     "name": "stdout",
     "output_type": "stream",
     "text": [
      "Accuracy of the network on the 10000 test images: 54 %\n"
     ]
    }
   ],
   "source": [
    "correct = 0\n",
    "total = 0\n",
    "with torch.no_grad():\n",
    "    for data in testloader:\n",
    "        images, labels = data\n",
    "        outputs = net(images)\n",
    "        _, predicted = torch.max(outputs.data, 1)\n",
    "        total += labels.size(0)\n",
    "        correct += (predicted == labels).sum().item()\n",
    "\n",
    "print('Accuracy of the network on the 10000 test images: %d %%' % (\n",
    "    100 * correct / total))"
   ]
  },
  {
   "cell_type": "markdown",
   "metadata": {},
   "source": [
    "このコードは, 訓練済みのPyTorchモデルを用いてテストデータを推論し, その結果に基づいてモデルの精度を評価する処理です.  \n",
    "\n",
    "1. 変数初期化\n",
    "- `correct` 変数は, 正しく分類された画像の数を初期化します.  \n",
    "- `total` 変数は, テストデータ全体の画像数を初期化します.  \n",
    "\n",
    "2. 推論ループ：`with torch.no_grad():`\n",
    "- `with torch.no_grad():` ブロックは, 勾配計算を無効にする文脈マネージャーです.  \n",
    "    - モデルの推論処理では, 勾配計算は不要なので, このブロックを使用することで計算効率を向上させることができます.  \n",
    "- `for data in testloader:` ループは, テストデータセット内のミニバッチごとに処理を行います.  \n",
    "    - `data` は, ミニバッチ内の画像データとラベルをタプル形式で格納しています.  \n",
    "    - `images` は, モデルに入力する画像データを表します.  \n",
    "    - `labels` は, 各画像に対応する正解ラベルを表します.  \n",
    "\n",
    "3. 推論処理：`outputs = net(images)`\n",
    "\n",
    "- `net()` メソッドを呼び出すことで, モデルに画像データ`images`を入力し, 推論処理を実行します.  \n",
    "- この処理により, モデルは入力画像に対して各クラスの予測確率を計算します.  \n",
    "- 出力 `outputs` は, 各画像に対する予測確率のリストとなります.  \n",
    "\n",
    "4. クラス予測の取得：`_, predicted = torch.max(outputs.data, 1)`\n",
    "\n",
    "- `torch.max()` 関数を使用して, `outputs` テンソルにおける各行の最大値とそのインデックスを取得します.  \n",
    "    - `outputs` は, モデルの推論結果である各クラスごとの予測確率を格納したテンソルです.  \n",
    "    - `dim=1` を指定することで, 各行 (画像) の最大値のみを計算します.  \n",
    "- 取得結果は, 2つのタプル `_` と `predicted` に格納されます.  \n",
    "    - `_` は, 最大値そのもの (数値) を格納しますが, 今回は使用しないので無視します.  \n",
    "    - `predicted` は, 各行の最大値に対応するインデックス (クラス番号) を格納します.  \n",
    "\n",
    "5. 正解判定：`(predicted == labels).sum().item()`\n",
    "\n",
    "- `predicted` は, 予測クラス番号を表すテンソルです.  \n",
    "- `labels` は, 正解ラベルを表すテンソルです.  \n",
    "- `predicted == labels` は, 予測クラス番号と正解ラベルが一致しているかどうかを要素ごとに判定する比較演算子です.  \n",
    "- `(predicted == labels).sum()` は, 一致している要素の個数を合計します.  \n",
    "- `.item()` メソッドは, テンソルからPython スカラ値を取得します.  \n",
    "\n",
    "6. 統計情報の更新\n",
    "\n",
    "- `correct` には, 正しく分類された画像の数を累積的に加算します.  \n",
    "- `total` には, 処理した画像の総数を累積的に加算します.  \n",
    "\n",
    "7. 精度計算：`print('Accuracy of the network on the 10000 test images: %d %%' % (100 * correct / total))`\n",
    "\n",
    "- 処理が完了したら, 正しく分類された画像の割合を計算し, 精度として出力します.  \n",
    "- `100 * correct / total` は, 正解率を百分率で表します.  \n",
    "- `print()` 関数を使用して, モデル名, テストデータ数, 精度を分かりやすく表示します.  \n"
   ]
  },
  {
   "cell_type": "code",
   "execution_count": 14,
   "metadata": {},
   "outputs": [
    {
     "name": "stdout",
     "output_type": "stream",
     "text": [
      "Accuracy of plane : 64 %\n",
      "Accuracy of   car : 66 %\n",
      "Accuracy of  bird : 35 %\n",
      "Accuracy of   cat : 28 %\n",
      "Accuracy of  deer : 52 %\n",
      "Accuracy of   dog : 29 %\n",
      "Accuracy of  frog : 61 %\n",
      "Accuracy of horse : 74 %\n",
      "Accuracy of  ship : 59 %\n",
      "Accuracy of truck : 70 %\n"
     ]
    }
   ],
   "source": [
    "class_correct = list(0. for i in range(10))\n",
    "class_total = list(0. for i in range(10))\n",
    "with torch.no_grad():\n",
    "    for data in testloader:\n",
    "        images, labels = data\n",
    "        outputs = net(images)\n",
    "        _, predicted = torch.max(outputs, 1)\n",
    "        c = (predicted == labels).squeeze()\n",
    "        for i in range(4):\n",
    "            label = labels[i]\n",
    "            class_correct[label] += c[i].item()\n",
    "            class_total[label] += 1\n",
    "\n",
    "\n",
    "for i in range(10):\n",
    "    print('Accuracy of %5s : %2d %%' % (\n",
    "        classes[i], 100 * class_correct[i] / class_total[i]))"
   ]
  },
  {
   "cell_type": "markdown",
   "metadata": {},
   "source": [
    "このコードは, 訓練済みのPyTorchモデルを用いてテストデータを推論し, その結果に基づいて各クラスごとの精度を評価する処理です. \n",
    "\n",
    "1. 変数初期化\n",
    "\n",
    "- `class_correct` と `class_total` は, それぞれ各クラスにおける正しく分類された画像数とそのクラスのデータ数を格納するためのリストです. \n",
    "- リストの初期値は `0` であり, これは各クラスに対してまだ画像が分類されていないことを意味します. \n",
    "\n",
    "2. 推論ループ：`with torch.no_grad():`\n",
    "\n",
    "- `with torch.no_grad():` ブロックは, 勾配計算を無効にする文脈マネージャーです. \n",
    "    - モデルの推論処理では, 勾配計算は不要なので, このブロックを使用することで計算効率を向上させることができます. \n",
    "- `for data in testloader:` ループは, テストデータセット内のミニバッチごとに処理を行います. \n",
    "    - `data` は, ミニバッチ内の画像データとラベルをタプル形式で格納しています. \n",
    "    - `images` は, モデルに入力する画像データを表します. \n",
    "    - `labels` は, 各画像に対応する正解ラベルを表します. \n",
    "\n",
    "3. 推論処理：`outputs = net(images)`\n",
    "\n",
    "- `net()` メソッドを呼び出すことで, モデルに画像データ`images`を入力し, 推論処理を実行します. \n",
    "- この処理により, モデルは入力画像に対して各クラスの予測確率を計算します. \n",
    "- 出力 `outputs` は, 各画像に対する予測確率のリストとなります. \n",
    "\n",
    "4. クラス別統計情報の更新\n",
    "\n",
    "- `c = (predicted == labels).squeeze()` は, 予測クラスと正解ラベルが一致しているかどうかを要素ごとに判定し, 結果をテンソル `c` に格納します. \n",
    "    - `predicted` は, 予測クラス番号を表すテンソルです. \n",
    "    - `labels` は, 正解ラベルを表すテンソルです. \n",
    "    - `==` 演算子は, 要素ごとの比較を行います. \n",
    "    - `.squeeze()` メソッドは, テンソルの次元を1つ減らします. \n",
    "- `for i in range(4):` ループは, ミニバッチ内の4つの画像に対して処理を行います. \n",
    "    - `label = labels[i]` は, i番目の画像の正解ラベルを取得します. \n",
    "    - `class_correct[label] += c[i].item()` は, 正解ラベル`label` に対する正しく分類された画像の数をカウントします. \n",
    "        - `class_correct[label]` は, 正解ラベル`label` に対する正しく分類された画像数の累積計です. \n",
    "        - `c[i].item()` は, i番目の画像における予測と正解の一致判定結果 (True または False) を数値に変換します. \n",
    "        - `+=` 演算子は, 累積カウントを実行します. \n",
    "    - `class_total[label] += 1` は, 正解ラベル`label` のデータ数をカウントします. \n",
    "        - `class_total[label]` は, 正解ラベル`label` のデータ数の累積計です. \n",
    "        - `+=` 演算子は, 累積カウントを実行します. \n",
    "\n",
    "5. クラス別精度出力：`for i in range(10):`\n",
    "\n",
    "- `for i in range(10):` ループは, 0から9までの各クラスについて処理を行います. \n",
    "- `print('Accuracy of %5s : %2d %%' % (classes[i], 100 * class_correct[i] / class_total[i]))` は, 各クラスの精度を計算して出力します. \n",
    "    - `classes[i]` は, i番目のクラスの名称を取得します. \n",
    "    - `100 * class_correct[i] / class_total[i]` は, i番目のクラスの精度を百分率で計算します. \n",
    "        - `class_correct[i]` は, i番目のクラスにおける正しく分類された画像数です. \n",
    "        - `class_total[i]` は, i番目のクラスのデータ数です. \n",
    "    - `print()` 関数を使用して, クラス名称と精度を分かりやすく表示します. "
   ]
  },
  {
   "cell_type": "markdown",
   "metadata": {},
   "source": []
  }
 ],
 "metadata": {
  "kernelspec": {
   "display_name": "Python 3",
   "language": "python",
   "name": "python3"
  },
  "language_info": {
   "codemirror_mode": {
    "name": "ipython",
    "version": 3
   },
   "file_extension": ".py",
   "mimetype": "text/x-python",
   "name": "python",
   "nbconvert_exporter": "python",
   "pygments_lexer": "ipython3",
   "version": "3.12.2"
  }
 },
 "nbformat": 4,
 "nbformat_minor": 2
}
