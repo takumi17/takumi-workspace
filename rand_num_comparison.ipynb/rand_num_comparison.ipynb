{
 "cells": [
  {
   "cell_type": "markdown",
   "metadata": {},
   "source": [
    "# Mersenne_twisterのコード"
   ]
  },
  {
   "cell_type": "code",
   "execution_count": 1,
   "metadata": {},
   "outputs": [],
   "source": [
    "class MT:\n",
    "    def __init__(self, seed):\n",
    "        self.W = 32\n",
    "        self.N = 624\n",
    "        self.M = 397\n",
    "        self.R = 31\n",
    "        self.U = 11\n",
    "        self.S = 7\n",
    "        self.T = 15\n",
    "        self.L = 18\n",
    "        self.A = 0x9908B0DF\n",
    "        self.B = 0x9D2C5680\n",
    "        self.C = 0xEFC60000\n",
    "        \n",
    "        # ビットマスク用\n",
    "        self.WHOLE_MASK = (1 << self.W) - 1\n",
    "        self.UPPER_MASK = ((1 << self.W) - 1) & ~((1 << self.R) - 1)\n",
    "        self.LOWER_MASK = (1 << self.R) - 1\n",
    "        \n",
    "        # MT内部状態\n",
    "        self.i = 0\n",
    "        self.x = [seed & self.WHOLE_MASK]\n",
    "        \n",
    "        # 初期化\n",
    "        for i in range(1, self.N):\n",
    "            self.x.append((1812433253 * (self.x[i-1] ^ (self.x[i-1] >> 30)) + i) & self.WHOLE_MASK)\n",
    "    \n",
    "    # MTで乱数を生成\n",
    "    def next(self):\n",
    "        # Step.1\n",
    "        z = (self.x[self.i] & self.UPPER_MASK) | (self.x[(self.i + 1) % self.N] & self.LOWER_MASK)\n",
    "        \n",
    "        # Step.2\n",
    "        self.x[self.i] = self.x[(self.i + self.M) % self.N] ^ (z >> 1) ^ (self.A if z & 1 else 0)\n",
    "        \n",
    "        # Step.3\n",
    "        y = self.x[self.i]\n",
    "        y ^= (y >> self.U)\n",
    "        y ^= ((y << self.S) & self.B)\n",
    "        y ^= ((y << self.T) & self.C)\n",
    "        y ^= (y >> self.L)\n",
    "        \n",
    "        # カウンタを変更して、生成した乱数を返す\n",
    "        self.i = (self.i + 1) % self.N\n",
    "        return y"
   ]
  },
  {
   "cell_type": "markdown",
   "metadata": {},
   "source": [
    "# Mersenne_twisterの乱数生成"
   ]
  },
  {
   "cell_type": "code",
   "execution_count": 2,
   "metadata": {},
   "outputs": [
    {
     "name": "stdout",
     "output_type": "stream",
     "text": [
      "0番目: 909111202\n",
      "1番目: 1775643220\n",
      "2番目: 3451004665\n",
      "3番目: 2605250323\n",
      "4番目: 792343277\n",
      "5番目: 400246621\n",
      "6番目: 276307393\n",
      "7番目: 1249125328\n",
      "8番目: 2330296989\n",
      "9番目: 749880315\n"
     ]
    }
   ],
   "source": [
    "mt = MT(20150919) # シード値\n",
    "for i in range(10):\n",
    "    print(f\"{i}番目: {mt.next()}\")"
   ]
  },
  {
   "cell_type": "markdown",
   "metadata": {},
   "source": [
    "# Xorshift32のコード"
   ]
  },
  {
   "cell_type": "code",
   "execution_count": 3,
   "metadata": {},
   "outputs": [],
   "source": [
    "def xorshift32(seed=2463534242):\n",
    "\n",
    "\n",
    "    def _random():\n",
    "        nonlocal q\n",
    "        q = q ^ (q << 13 & 0xFFFFFFFF)\n",
    "        q = q ^ (q >> 17 & 0xFFFFFFFF)\n",
    "        q = q ^ (q << 5 & 0xFFFFFFFF)\n",
    "\n",
    "        return q & 0xFFFFFFFF\n",
    "\n",
    "    q = seed\n",
    "    return _random"
   ]
  },
  {
   "cell_type": "markdown",
   "metadata": {},
   "source": [
    "# Xorshift32の乱数生成"
   ]
  },
  {
   "cell_type": "code",
   "execution_count": 5,
   "metadata": {},
   "outputs": [
    {
     "name": "stdout",
     "output_type": "stream",
     "text": [
      "0番目: 723471715\n",
      "1番目: 2497366906\n",
      "2番目: 2064144800\n",
      "3番目: 2008045182\n",
      "4番目: 3532304609\n",
      "5番目: 374114282\n",
      "6番目: 1350636274\n",
      "7番目: 691148861\n",
      "8番目: 746858951\n",
      "9番目: 2653896249\n"
     ]
    }
   ],
   "source": [
    "x_32 = xorshift32(2463534242) # シード値\n",
    "for i in range(10):\n",
    "    print(f\"{i}番目: {x_32()}\")"
   ]
  },
  {
   "cell_type": "markdown",
   "metadata": {},
   "source": [
    "# Xorshift128のコード"
   ]
  },
  {
   "cell_type": "code",
   "execution_count": 6,
   "metadata": {},
   "outputs": [],
   "source": [
    "def xorshift128(x=123456789, y=362436069, z=521288629, w=88675123):\n",
    "\n",
    "    def _random():\n",
    "        nonlocal x, y, z, w\n",
    "        t = x ^ ((x << 11) & 0xFFFFFFFF)  # 32bit\n",
    "        #print(f'{t=}')\n",
    "        x, y, z = y, z, w\n",
    "        w = (w ^ (w >> 19)) ^ (t ^ (t >> 8))\n",
    "        #print(f'{x=}')\n",
    "        #print(f'{y=}')\n",
    "        #print(f'{z=}')\n",
    "        #print(f'{w=}')\n",
    "        return w\n",
    "\n",
    "    return _random"
   ]
  },
  {
   "cell_type": "markdown",
   "metadata": {},
   "source": [
    "# Xorshift128の乱数生成"
   ]
  },
  {
   "cell_type": "code",
   "execution_count": 7,
   "metadata": {},
   "outputs": [
    {
     "name": "stdout",
     "output_type": "stream",
     "text": [
      "0番目: 3701687786\n",
      "1番目: 458299110\n",
      "2番目: 2500872618\n",
      "3番目: 3633119408\n",
      "4番目: 516391518\n",
      "5番目: 2377269574\n",
      "6番目: 2599949379\n",
      "7番目: 717229868\n",
      "8番目: 137866584\n",
      "9番目: 395339113\n"
     ]
    }
   ],
   "source": [
    "x_128 = xorshift128(x=123456789, y=362436069, z=521288629, w=88675123) # シード値\n",
    "for i in range(10):\n",
    "    print(f\"{i}番目: {x_128()}\")"
   ]
  },
  {
   "cell_type": "markdown",
   "metadata": {},
   "source": [
    "# random関数のコード"
   ]
  },
  {
   "cell_type": "markdown",
   "metadata": {},
   "source": [
    "[randommodule](https://github.com/python/cpython/blob/main/Modules/_randommodule.c)"
   ]
  },
  {
   "cell_type": "code",
   "execution_count": 8,
   "metadata": {},
   "outputs": [
    {
     "name": "stdout",
     "output_type": "stream",
     "text": [
      "0番目: 4104874304\n",
      "1番目: 1696908957\n",
      "2番目: 271093810\n",
      "3番目: 920192649\n",
      "4番目: 3389050373\n",
      "5番目: 4012423974\n",
      "6番目: 40179493\n",
      "7番目: 1523205539\n",
      "8番目: 3694761199\n",
      "9番目: 2273220203\n"
     ]
    }
   ],
   "source": [
    "import random\n",
    "\n",
    "random.seed(20150919)\n",
    "\n",
    "# 乱数を生成\n",
    "for i in range(10):\n",
    "    print(f\"{i}番目: {random.getrandbits(32)}\")"
   ]
  },
  {
   "cell_type": "markdown",
   "metadata": {},
   "source": [
    "# 各々の1,000,000回生成させた時間"
   ]
  },
  {
   "cell_type": "code",
   "execution_count": 9,
   "metadata": {},
   "outputs": [
    {
     "name": "stdout",
     "output_type": "stream",
     "text": [
      "199 μs ± 2.01 μs per loop (mean ± std. dev. of 7 runs, 1,000 loops each)\n"
     ]
    }
   ],
   "source": [
    "%%timeit\n",
    "\n",
    "mt = MT(20150919) # シード値\n",
    "for i in range(100):\n",
    "    j = mt.next()"
   ]
  },
  {
   "cell_type": "code",
   "execution_count": 10,
   "metadata": {},
   "outputs": [
    {
     "name": "stdout",
     "output_type": "stream",
     "text": [
      "31.4 μs ± 1.9 μs per loop (mean ± std. dev. of 7 runs, 10,000 loops each)\n"
     ]
    }
   ],
   "source": [
    "%%timeit\n",
    "\n",
    "x_32 = xorshift32(2463534242) # シード値\n",
    "for i in range(100):\n",
    "    j = x_32()"
   ]
  },
  {
   "cell_type": "code",
   "execution_count": 11,
   "metadata": {},
   "outputs": [
    {
     "name": "stdout",
     "output_type": "stream",
     "text": [
      "28.4 μs ± 483 ns per loop (mean ± std. dev. of 7 runs, 10,000 loops each)\n"
     ]
    }
   ],
   "source": [
    "%%timeit\n",
    "\n",
    "x_128 = xorshift128(x=123456789, y=362436069, z=521288629, w=88675123) # シード値\n",
    "for i in range(100):\n",
    "    j = x_128()"
   ]
  },
  {
   "cell_type": "code",
   "execution_count": 12,
   "metadata": {},
   "outputs": [
    {
     "name": "stdout",
     "output_type": "stream",
     "text": [
      "10.2 μs ± 433 ns per loop (mean ± std. dev. of 7 runs, 100,000 loops each)\n"
     ]
    }
   ],
   "source": [
    "%%timeit\n",
    "import random\n",
    "\n",
    "random.seed(20150919)\n",
    "\n",
    "# 乱数を生成\n",
    "for i in range(100):\n",
    "    j = random.getrandbits(32)"
   ]
  },
  {
   "cell_type": "markdown",
   "metadata": {},
   "source": [
    "# 各々の1,000,000回生成させたヒストグラム"
   ]
  },
  {
   "cell_type": "code",
   "execution_count": 13,
   "metadata": {},
   "outputs": [
    {
     "data": {
      "image/png": "[encoded data removed]",
      "text/plain": [
       "<Figure size 640x480 with 1 Axes>"
      ]
     },
     "metadata": {},
     "output_type": "display_data"
    },
    {
     "name": "stdout",
     "output_type": "stream",
     "text": [
      "最大値: (1098, 538)\n",
      "最小値: (898, 343)\n",
      "平均値: 1000.0\n"
     ]
    }
   ],
   "source": [
    "import matplotlib.pyplot as plt\n",
    "import japanize_matplotlib\n",
    "\n",
    "def main():\n",
    "    MAX = 1000  # 乱数の最大値\n",
    "    FREQUENCY = 2  # 乱数の記録頻度\n",
    "\n",
    "    mt = MT(20150919)\n",
    "    rand_nums = []  # 生成された乱数を格納するリスト\n",
    "    rand_hist = [0] * MAX  # ヒストグラム用のリスト\n",
    "    \n",
    "    # MAX*1000個の乱数を生成し, リストに追加\n",
    "    for i in range(MAX*1000*FREQUENCY):\n",
    "        rand_num = mt.next() % MAX + 1\n",
    "        if i % FREQUENCY == 0:\n",
    "            rand_nums.append(rand_num)\n",
    "            rand_hist[rand_num - 1] += 1\n",
    "        \n",
    "    # ヒストグラムを作成\n",
    "    plt.hist(rand_nums, bins=MAX, color='blue')\n",
    "    plt.title('Mersenne_twisterで生成された疑似乱数のヒストグラム')\n",
    "    plt.xlabel('疑似乱数の数値')\n",
    "    plt.ylabel('出現頻度')\n",
    "    plt.show()\n",
    "    # 出現頻度の最大値, 最小値, 平均値を表示\n",
    "    print(f'最大値: {max(rand_hist),rand_hist.index(max(rand_hist))}')\n",
    "    print(f'最小値: {min(rand_hist),rand_hist.index(min(rand_hist))}')\n",
    "    print(f'平均値: {sum(rand_hist) / MAX}')\n",
    "\n",
    "\n",
    "\n",
    "\n",
    "\n",
    "\n",
    "\n",
    "if __name__ == '__main__':\n",
    "    main()"
   ]
  },
  {
   "cell_type": "code",
   "execution_count": 14,
   "metadata": {},
   "outputs": [
    {
     "data": {
      "image/png": "[encoded data removed]",
      "text/plain": [
       "<Figure size 640x480 with 1 Axes>"
      ]
     },
     "metadata": {},
     "output_type": "display_data"
    },
    {
     "name": "stdout",
     "output_type": "stream",
     "text": [
      "最大値: (1113, 904)\n",
      "最小値: (885, 276)\n",
      "平均値: 1000.0\n"
     ]
    }
   ],
   "source": [
    "import matplotlib.pyplot as plt\n",
    "import japanize_matplotlib\n",
    "\n",
    "def main():\n",
    "    MAX = 1000\n",
    "\n",
    "    x_32 = xorshift32(2463534242)\n",
    "    rand_nums = []  # 生成された乱数を格納するリスト\n",
    "    rand_hist = [0] * MAX  # ヒストグラム用のリスト\n",
    "    \n",
    "    # 100000個の乱数を生成し, リストに追加\n",
    "    for i in range(1000000):\n",
    "        rand_num = x_32() % 1000 + 1\n",
    "        rand_nums.append(rand_num)\n",
    "        rand_hist[rand_num - 1] += 1\n",
    "        \n",
    "    # ヒストグラムを作成\n",
    "    plt.hist(rand_nums, bins=1000, color='blue')\n",
    "    plt.title('Xorshift32で生成された疑似乱数のヒストグラム')\n",
    "    plt.xlabel('疑似乱数の数値')\n",
    "    plt.ylabel('出現頻度')\n",
    "    plt.show()\n",
    "\n",
    "    # 出現頻度の最大値, 最小値, 平均値を表示\n",
    "    print(f'最大値: {max(rand_hist),rand_hist.index(max(rand_hist))}')\n",
    "    print(f'最小値: {min(rand_hist),rand_hist.index(min(rand_hist))}')\n",
    "    print(f'平均値: {sum(rand_hist) / MAX}')\n",
    "\n",
    "if __name__ == '__main__':\n",
    "    main()"
   ]
  },
  {
   "cell_type": "code",
   "execution_count": 15,
   "metadata": {},
   "outputs": [
    {
     "data": {
      "image/png": "[encoded data removed]",
      "text/plain": [
       "<Figure size 640x480 with 1 Axes>"
      ]
     },
     "metadata": {},
     "output_type": "display_data"
    },
    {
     "name": "stdout",
     "output_type": "stream",
     "text": [
      "最大値: (1102, 168)\n",
      "最小値: (890, 727)\n",
      "平均値: 1000.0\n"
     ]
    }
   ],
   "source": [
    "import matplotlib.pyplot as plt\n",
    "import japanize_matplotlib\n",
    "\n",
    "def main():\n",
    "    MAX = 1000\n",
    "    x_128 = xorshift128(x=123456789, y=362436069, z=521288629, w=88675123)\n",
    "    rand_nums = []  # 生成された乱数を格納するリスト\n",
    "    rand_hist = [0] * MAX  # ヒストグラム用のリスト\n",
    "    \n",
    "    # 100000個の乱数を生成し, リストに追加\n",
    "    for i in range(1000000):\n",
    "        rand_num = x_128() % MAX + 1\n",
    "        rand_nums.append(rand_num)\n",
    "        rand_hist[rand_num - 1] += 1\n",
    "        \n",
    "    # ヒストグラムを作成\n",
    "    plt.hist(rand_nums, bins=MAX, color='blue')\n",
    "    plt.title('Xorshift128で生成された疑似乱数のヒストグラム')\n",
    "    plt.xlabel('疑似乱数の数値')\n",
    "    plt.ylabel('出現頻度')\n",
    "    plt.show()\n",
    "\n",
    "    # 出現頻度の最大値, 最小値, 平均値を表示\n",
    "    print(f'最大値: {max(rand_hist),rand_hist.index(max(rand_hist))}')\n",
    "    print(f'最小値: {min(rand_hist),rand_hist.index(min(rand_hist))}')\n",
    "    print(f'平均値: {sum(rand_hist) / MAX}')\n",
    "    \n",
    "\n",
    "if __name__ == '__main__':\n",
    "    main()"
   ]
  },
  {
   "cell_type": "code",
   "execution_count": 16,
   "metadata": {},
   "outputs": [
    {
     "data": {
      "image/png": "[encoded data removed]",
      "text/plain": [
       "<Figure size 640x480 with 1 Axes>"
      ]
     },
     "metadata": {},
     "output_type": "display_data"
    },
    {
     "name": "stdout",
     "output_type": "stream",
     "text": [
      "最大値: (1103, 325)\n",
      "最小値: (907, 303)\n",
      "平均値: 1000.0\n"
     ]
    }
   ],
   "source": [
    "import matplotlib.pyplot as plt\n",
    "import japanize_matplotlib\n",
    "import random\n",
    "\n",
    "random.seed(20150919)\n",
    "MAX = 1000\n",
    "\n",
    "rand_nums = []  # 乱数を格納するリストを初期化\n",
    "rand_hist = [0] * MAX  # ヒストグラム用のリストを初期化\n",
    "\n",
    "# 1000000個の乱数を生成し, リストに追加\n",
    "for i in range(1000000):\n",
    "    #rand_num = random.random() % MAX + 1  # 0.0以上1000.0未満の乱数を生成\n",
    "    rand_num = random.randint(1, MAX)\n",
    "    rand_nums.append(rand_num)\n",
    "    rand_hist[int(rand_num) - 1] += 1\n",
    "\n",
    "# ヒストグラムを作成\n",
    "plt.hist(rand_nums, bins=1000, color='blue')\n",
    "plt.title('random.randomで生成された疑似乱数のヒストグラム')\n",
    "plt.xlabel('疑似乱数の数値')\n",
    "plt.ylabel('出現頻度')\n",
    "plt.show()\n",
    "\n",
    "# 出現頻度の最大値, 最小値, 平均値を表示\n",
    "\n",
    "print(f'最大値: {max(rand_hist),rand_hist.index(max(rand_hist))}')\n",
    "print(f'最小値: {min(rand_hist),rand_hist.index(min(rand_hist))}')\n",
    "print(f'平均値: {sum(rand_hist) / MAX}')"
   ]
  },
  {
   "cell_type": "markdown",
   "metadata": {},
   "source": [
    "# 各々の乱数生成アルゴリズムのメモリ使用量"
   ]
  },
  {
   "cell_type": "code",
   "execution_count": 17,
   "metadata": {},
   "outputs": [
    {
     "name": "stdout",
     "output_type": "stream",
     "text": [
      "現在のメモリ使用量: 27.81KB\n",
      "ピーク時のメモリ使用量: 47.794KB\n"
     ]
    }
   ],
   "source": [
    "import tracemalloc\n",
    "\n",
    "# メモリ追跡を開始\n",
    "tracemalloc.start()\n",
    "\n",
    "# 乱数を生成\n",
    "mt = MT(20150919)\n",
    "for n in range(1000000):\n",
    "    n = mt.next()\n",
    "\n",
    "# 現在のメモリ使用量とピークメモリ使用量を取得\n",
    "current, peak = tracemalloc.get_traced_memory()\n",
    "\n",
    "# メモリ追跡を停止\n",
    "tracemalloc.stop()\n",
    "\n",
    "print(f\"現在のメモリ使用量: {current / 10**3}KB\")\n",
    "print(f\"ピーク時のメモリ使用量: {peak / 10**3}KB\")"
   ]
  },
  {
   "cell_type": "code",
   "execution_count": 18,
   "metadata": {},
   "outputs": [
    {
     "name": "stdout",
     "output_type": "stream",
     "text": [
      "現在のメモリ使用量: 4.247KB\n",
      "ピーク時のメモリ使用量: 22.441KB\n"
     ]
    }
   ],
   "source": [
    "import tracemalloc\n",
    "\n",
    "# メモリ追跡を開始\n",
    "tracemalloc.start()\n",
    "\n",
    "# 乱数を生成\n",
    "x_32 = xorshift32(2463534242)\n",
    "for m in range(1000000):\n",
    "    m = x_32()\n",
    "\n",
    "# 現在のメモリ使用量とピークメモリ使用量を取得\n",
    "current, peak = tracemalloc.get_traced_memory()\n",
    "\n",
    "# メモリ追跡を停止\n",
    "tracemalloc.stop()\n",
    "\n",
    "print(f\"現在のメモリ使用量: {current / 10**3}KB\")\n",
    "print(f\"ピーク時のメモリ使用量: {peak / 10**3}KB\")"
   ]
  },
  {
   "cell_type": "code",
   "execution_count": 19,
   "metadata": {},
   "outputs": [
    {
     "name": "stdout",
     "output_type": "stream",
     "text": [
      "現在のメモリ使用量: 5.05KB\n",
      "ピーク時のメモリ使用量: 23.239KB\n"
     ]
    }
   ],
   "source": [
    "import tracemalloc\n",
    "\n",
    "# メモリ追跡を開始\n",
    "tracemalloc.start()\n",
    "\n",
    "# 乱数を生成\n",
    "x_128 = xorshift128(x=123456789, y=362436069, z=521288629, w=88675123)\n",
    "for k in range(1000000):\n",
    "    k = x_128()\n",
    "\n",
    "# 現在のメモリ使用量とピークメモリ使用量を取得\n",
    "current, peak = tracemalloc.get_traced_memory()\n",
    "\n",
    "# メモリ追跡を停止\n",
    "tracemalloc.stop()\n",
    "\n",
    "print(f\"現在のメモリ使用量: {current / 10**3}KB\")\n",
    "print(f\"ピーク時のメモリ使用量: {peak / 10**3}KB\")"
   ]
  },
  {
   "cell_type": "code",
   "execution_count": 20,
   "metadata": {},
   "outputs": [
    {
     "name": "stdout",
     "output_type": "stream",
     "text": [
      "現在のメモリ使用量: 3.203KB\n",
      "ピーク時のメモリ使用量: 21.813KB\n"
     ]
    }
   ],
   "source": [
    "import random\n",
    "import tracemalloc\n",
    "\n",
    "# メモリ追跡を開始\n",
    "tracemalloc.start()\n",
    "\n",
    "# 乱数を生成\n",
    "for p in range(1000000):\n",
    "    p = random.random()\n",
    "\n",
    "# 現在のメモリ使用量とピークメモリ使用量を取得\n",
    "current, peak = tracemalloc.get_traced_memory()\n",
    "\n",
    "# メモリ追跡を停止\n",
    "tracemalloc.stop()\n",
    "\n",
    "print(f\"現在のメモリ使用量: {current / 10**3}KB\")\n",
    "print(f\"ピーク時のメモリ使用量: {peak / 10**3}KB\")"
   ]
  }
 ],
 "metadata": {
  "kernelspec": {
   "display_name": "Python 3",
   "language": "python",
   "name": "python3"
  },
  "language_info": {
   "codemirror_mode": {
    "name": "ipython",
    "version": 3
   },
   "file_extension": ".py",
   "mimetype": "text/x-python",
   "name": "python",
   "nbconvert_exporter": "python",
   "pygments_lexer": "ipython3",
   "version": "3.12.2"
  }
 },
 "nbformat": 4,
 "nbformat_minor": 2
}
